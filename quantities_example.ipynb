{
 "cells": [
  {
   "cell_type": "code",
   "execution_count": 3,
   "id": "547b2c53",
   "metadata": {
    "pycharm": {
     "name": "#%%\n"
    }
   },
   "outputs": [
    {
     "data": {
      "text/plain": "<IPython.core.display.Math object>",
      "text/latex": "$\\displaystyle 1.56037736990193 \\cdot 10^{26} eV^2$"
     },
     "metadata": {},
     "output_type": "display_data"
    }
   ],
   "source": [
    "import quantities as qt\n",
    "import re\n",
    "from IPython.display import display, Math\n",
    "from sympy import latex\n",
    "\n",
    "test = 5 * qt.J * 5*10**6*qt.eV\n",
    "test.units = qt.eV**2\n",
    "temp = re.sub(\"\\*\\*\",\"^\",str(test).split()[1])\n",
    "display(Math(f'{latex(float(str(test).split(\" \")[0]))} {temp}'))"
   ]
  },
  {
   "cell_type": "code",
   "execution_count": 40,
   "outputs": [
    {
     "name": "stdout",
     "output_type": "stream",
     "text": [
      "25.0 nm*N\n",
      "2.4999999999999998e-05 mJ\n",
      "8000.000025 mJ\n"
     ]
    }
   ],
   "source": [
    "import quantities as qt\n",
    "\n",
    "F = 5*qt.N\n",
    "d = 5*qt.nm\n",
    "W = F*d\n",
    "print(W)\n",
    "mJ = qt.UnitQuantity('mJ', qt.J/1e3)\n",
    "W.units = 'mJ'\n",
    "print(W)\n",
    "print(W + 8*qt.J)"
   ],
   "metadata": {
    "collapsed": false,
    "pycharm": {
     "name": "#%%\n"
    }
   }
  },
  {
   "cell_type": "code",
   "execution_count": 21,
   "outputs": [
    {
     "name": "stdout",
     "output_type": "stream",
     "text": [
      "1.0 J\n"
     ]
    }
   ],
   "source": [
    "temp = (5*W + 6*10**8*qt.eV).units\n",
    "print(temp)"
   ],
   "metadata": {
    "collapsed": false,
    "pycharm": {
     "name": "#%%\n"
    }
   }
  },
  {
   "cell_type": "code",
   "execution_count": null,
   "outputs": [],
   "source": [],
   "metadata": {
    "collapsed": false,
    "pycharm": {
     "name": "#%%\n"
    }
   }
  }
 ],
 "metadata": {
  "kernelspec": {
   "display_name": "Python 3 (ipykernel)",
   "language": "python",
   "name": "python3"
  },
  "language_info": {
   "codemirror_mode": {
    "name": "ipython",
    "version": 3
   },
   "file_extension": ".py",
   "mimetype": "text/x-python",
   "name": "python",
   "nbconvert_exporter": "python",
   "pygments_lexer": "ipython3",
   "version": "3.11.0"
  }
 },
 "nbformat": 4,
 "nbformat_minor": 5
}