{
 "cells": [
  {
   "cell_type": "code",
   "execution_count": 172,
   "id": "547b2c53",
   "metadata": {
    "pycharm": {
     "name": "#%%\n"
    }
   },
   "outputs": [
    {
     "data": {
      "text/plain": "<IPython.core.display.Math object>",
      "text/latex": "$\\displaystyle 1.56037736990193 \\cdot 10^{26} eV^2$"
     },
     "metadata": {},
     "output_type": "display_data"
    }
   ],
   "source": [
    "import quantities as qt\n",
    "import re\n",
    "from IPython.display import display, Math, Latex\n",
    "from sympy import latex\n",
    "import numpy as np\n",
    "\n",
    "test = 5 * qt.J * 5*10**6*qt.eV\n",
    "test.units = qt.eV**2\n",
    "temp = re.sub(\"\\*\\*\",\"^\",str(test).split()[1])\n",
    "display(Math(f'{latex(float(str(test).split(\" \")[0]))} {temp}'))\n"
   ]
  },
  {
   "cell_type": "code",
   "execution_count": 175,
   "outputs": [
    {
     "data": {
      "text/plain": "array(0.11562161) * nm"
     },
     "execution_count": 175,
     "metadata": {},
     "output_type": "execute_result"
    }
   ],
   "source": [
    "import quantities as qt\n",
    "\n",
    "hbar = 1*qt.constants.hbar\n",
    "hbar.units = qt.erg*qt.s\n",
    "\n",
    "m = 1.9*qt.constants.m_e\n",
    "m.units = 'g'\n",
    "\n",
    "V0 = 1.5*qt.eV\n",
    "\n",
    "L = hbar/((2*m*V0)**0.5)\n",
    "w = L\n",
    "w.units = 'nm'\n",
    "w"
   ],
   "metadata": {
    "collapsed": false,
    "pycharm": {
     "name": "#%%\n"
    }
   }
  },
  {
   "cell_type": "code",
   "execution_count": 174,
   "outputs": [
    {
     "data": {
      "text/plain": "array(0.3) * eV"
     },
     "execution_count": 174,
     "metadata": {},
     "output_type": "execute_result"
    }
   ],
   "source": [
    "p0 = np.sqrt(2 * m * 0.2 * V0)\n",
    "E = p0**2 / (2*m)\n",
    "E"
   ],
   "metadata": {
    "collapsed": false,
    "pycharm": {
     "name": "#%%\n"
    }
   }
  },
  {
   "cell_type": "code",
   "execution_count": 149,
   "outputs": [],
   "source": [
    "%%capture\n",
    "from num2tex import num2tex, configure\n",
    "configure(exp_format='cdot')\n",
    "\n",
    "def float_to_latex(x, decimal_places = 2):\n",
    "  format_string = f'{{:.{decimal_places}e}}'\n",
    "  try:\n",
    "    return (format_string.format(num2tex(x))).replace('1.0', '').replace('**', '^')\n",
    "  except:\n",
    "    return (format_string.format(num2tex(x.magnitude)) + '\\\\text{' + f'{x.units}' + '}').replace('1.0', '').replace('**', '^')\n"
   ],
   "metadata": {
    "collapsed": false,
    "pycharm": {
     "name": "#%%\n"
    }
   }
  },
  {
   "cell_type": "code",
   "execution_count": 135,
   "outputs": [
    {
     "data": {
      "text/plain": "<IPython.core.display.Math object>",
      "text/latex": "$\\displaystyle 2.00 \\cdot 10^{-8}\\text{ J}$"
     },
     "execution_count": 135,
     "metadata": {},
     "output_type": "execute_result"
    }
   ],
   "source": [
    "Math(float_to_latex((2E-08)*qt.J))"
   ],
   "metadata": {
    "collapsed": false,
    "pycharm": {
     "name": "#%%\n"
    }
   }
  },
  {
   "cell_type": "code",
   "execution_count": 134,
   "outputs": [
    {
     "data": {
      "text/plain": "<IPython.core.display.Math object>",
      "text/latex": "$\\displaystyle 4.39 \\cdot 10^{-7}\\text{ nm}$"
     },
     "execution_count": 134,
     "metadata": {},
     "output_type": "execute_result"
    }
   ],
   "source": [
    "Math(float_to_latex(w))"
   ],
   "metadata": {
    "collapsed": false,
    "pycharm": {
     "name": "#%%\n"
    }
   }
  },
  {
   "cell_type": "code",
   "execution_count": 202,
   "outputs": [
    {
     "name": "stdout",
     "output_type": "stream",
     "text": [
      "['E', '-']\n"
     ]
    }
   ],
   "source": [
    "import re\n",
    "\n",
    "regex = r'\\d*([E-]|[e-]|[E+]|[E-]){1}\\d*'\n",
    "\n",
    "print(re.findall(regex, '{2E-08}g'))"
   ],
   "metadata": {
    "collapsed": false,
    "pycharm": {
     "name": "#%%\n"
    }
   }
  },
  {
   "cell_type": "code",
   "execution_count": null,
   "outputs": [],
   "source": [],
   "metadata": {
    "collapsed": false,
    "pycharm": {
     "name": "#%%\n"
    }
   }
  }
 ],
 "metadata": {
  "kernelspec": {
   "display_name": "Python 3 (ipykernel)",
   "language": "python",
   "name": "python3"
  },
  "language_info": {
   "codemirror_mode": {
    "name": "ipython",
    "version": 3
   },
   "file_extension": ".py",
   "mimetype": "text/x-python",
   "name": "python",
   "nbconvert_exporter": "python",
   "pygments_lexer": "ipython3",
   "version": "3.11.0"
  }
 },
 "nbformat": 4,
 "nbformat_minor": 5
}