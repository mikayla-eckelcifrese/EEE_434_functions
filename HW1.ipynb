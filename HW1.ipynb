{
 "cells": [
  {
   "cell_type": "code",
   "execution_count": 2,
   "metadata": {
    "collapsed": true,
    "pycharm": {
     "name": "#%%\n"
    }
   },
   "outputs": [],
   "source": [
    "from numpy import pi\n",
    "\n",
    "#constants\n",
    "h = 4.136 * 10**(-15) # in eV*s\n",
    "h_bar = h/(2*pi)\n",
    "m_e = 9.109 * 10**(-31) # in kg\n",
    "c = 2.99 * 10**8 # in kg*m/s\n",
    "q = 1.6022*10**(-19) #in coloumbs"
   ]
  },
  {
   "cell_type": "code",
   "execution_count": 3,
   "outputs": [],
   "source": [
    "#de broglie equations\n",
    "def momentum(E, mass = m_e):\n",
    "  return (2*mass*E)**0.5\n",
    "\n",
    "def wavelength(E, mass = m_e):\n",
    "  return h/momentum(E, mass)\n",
    "\n",
    "def energy(f):\n",
    "  return h*f"
   ],
   "metadata": {
    "collapsed": false,
    "pycharm": {
     "name": "#%%\n"
    }
   }
  },
  {
   "cell_type": "code",
   "execution_count": 4,
   "outputs": [],
   "source": [
    "def freq_light(wavelength_in_nanometers):\n",
    "  return c/(wavelength_in_nanometers*10**(-9))"
   ],
   "metadata": {
    "collapsed": false,
    "pycharm": {
     "name": "#%%\n"
    }
   }
  },
  {
   "cell_type": "code",
   "execution_count": 5,
   "outputs": [
    {
     "name": "stdout",
     "output_type": "stream",
     "text": [
      "E_tot = 5.15eV \n",
      "E_kin = 0.97 \n",
      "p = 5.3e-25 kg*/s \n",
      "lambda = 1.24nm\n"
     ]
    }
   ],
   "source": [
    "E_0 = 4.18; E = energy(freq_light(240)); E_kin = E - E_0 #in eV\n",
    "p = momentum(E_kin * 1.6022 * 10 ** (-19)) #in kg*m/s\n",
    "Lambda = (h*q/p)*10**(9) #in nm\n",
    "print(f\"E_tot = {round(E, 2)}eV\", f\"\\nE_kin = {round(E_kin,2)}\", f\"\\np = {round(p, 26)} kg*/s\", f\"\\nlambda = {round(Lambda, 2)}nm\")"
   ],
   "metadata": {
    "collapsed": false,
    "pycharm": {
     "name": "#%%\n"
    }
   }
  },
  {
   "cell_type": "code",
   "execution_count": 6,
   "outputs": [
    {
     "data": {
      "text/plain": "50.42576287172069"
     },
     "execution_count": 6,
     "metadata": {},
     "output_type": "execute_result"
    }
   ],
   "source": [
    "from numpy import arcsin, sin, pi, sqrt\n",
    "E_electron = (0.112*(10 ** 6))*q #times q to convert to joules\n",
    "E_scattered_photon = ((h * c) / (0.003191 * 10 ** (-9))) * q #times q to convert to joules\n",
    "p_electron = ((E_electron/c)**2 + 2*E_electron*m_e)**0.5\n",
    "theta = 45\n",
    "\n",
    "arcsin((E_scattered_photon * sin(theta * pi / 180)) / (p_electron*c)) * 180 / pi"
   ],
   "metadata": {
    "collapsed": false,
    "pycharm": {
     "name": "#%%\n"
    }
   }
  },
  {
   "cell_type": "code",
   "execution_count": 7,
   "outputs": [
    {
     "data": {
      "text/plain": "6.58264844628079e-16*k/(m*sqrt(1 + 4.33312605673229e-31*k**2/(A*m)))",
      "text/latex": "$\\displaystyle \\frac{6.58264844628079 \\cdot 10^{-16} k}{m \\sqrt{1 + \\frac{4.33312605673229 \\cdot 10^{-31} k^{2}}{A m}}}$"
     },
     "execution_count": 7,
     "metadata": {},
     "output_type": "execute_result"
    }
   ],
   "source": [
    "from sympy import symbols, diff, sqrt\n",
    "\n",
    "A, k, m = symbols('A k m', real = True)\n",
    "\n",
    "omega = (A/h_bar)*(sqrt(1+(h_bar**2)*(k**2)/(m*A))-1)\n",
    "\n",
    "diff(omega, k)"
   ],
   "metadata": {
    "collapsed": false,
    "pycharm": {
     "name": "#%%\n"
    }
   }
  },
  {
   "cell_type": "code",
   "execution_count": null,
   "outputs": [],
   "source": [],
   "metadata": {
    "collapsed": false,
    "pycharm": {
     "name": "#%%\n"
    }
   }
  }
 ],
 "metadata": {
  "kernelspec": {
   "display_name": "Python 3",
   "language": "python",
   "name": "python3"
  },
  "language_info": {
   "codemirror_mode": {
    "name": "ipython",
    "version": 2
   },
   "file_extension": ".py",
   "mimetype": "text/x-python",
   "name": "python",
   "nbconvert_exporter": "python",
   "pygments_lexer": "ipython2",
   "version": "2.7.6"
  }
 },
 "nbformat": 4,
 "nbformat_minor": 0
}