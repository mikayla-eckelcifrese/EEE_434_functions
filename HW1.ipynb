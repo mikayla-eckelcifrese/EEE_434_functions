{
 "cells": [
  {
   "cell_type": "code",
   "execution_count": 1,
   "metadata": {
    "collapsed": true,
    "pycharm": {
     "name": "#%%\n"
    }
   },
   "outputs": [],
   "source": [
    "from numpy import pi\n",
    "\n",
    "#constants\n",
    "h = 4.136 * 10**(-15) # in eV*s\n",
    "h_bar = h/(2*pi)\n",
    "m_e = 9.109 * 10**(-31) # in kg\n",
    "c = 2.99 * 10**8 # in kg*m/s\n",
    "q = 1.6022*10**(-19) #in coloumbs"
   ]
  },
  {
   "cell_type": "code",
   "execution_count": 2,
   "outputs": [],
   "source": [
    "#de broglie equations\n",
    "def momentum(E, mass = m_e):\n",
    "  return (2*mass*E)**0.5\n",
    "\n",
    "def wavelength(E, mass = m_e):\n",
    "  return h/momentum(E, mass)\n",
    "\n",
    "def energy(f):\n",
    "  return h*f"
   ],
   "metadata": {
    "collapsed": false,
    "pycharm": {
     "name": "#%%\n"
    }
   }
  },
  {
   "cell_type": "code",
   "execution_count": 3,
   "outputs": [],
   "source": [
    "def freq_light(wavelength_in_nanometers):\n",
    "  return c/(wavelength_in_nanometers*10**(-9))"
   ],
   "metadata": {
    "collapsed": false,
    "pycharm": {
     "name": "#%%\n"
    }
   }
  },
  {
   "cell_type": "code",
   "execution_count": 4,
   "outputs": [
    {
     "name": "stdout",
     "output_type": "stream",
     "text": [
      "E_tot = 5.15eV \n",
      "E_kin = 0.97 \n",
      "p = 5.3e-25 kg*/s \n",
      "lambda = 1.24nm\n"
     ]
    }
   ],
   "source": [
    "E_0 = 4.18; E = energy(freq_light(240)); E_kin = E - E_0 #in eV\n",
    "p = momentum(E_kin * 1.6022 * 10 ** (-19)) #in kg*m/s\n",
    "Lambda = (h*q/p)*10**(9) #in nm\n",
    "print(f\"E_tot = {round(E, 2)}eV\", f\"\\nE_kin = {round(E_kin,2)}\", f\"\\np = {round(p, 26)} kg*/s\", f\"\\nlambda = {round(Lambda, 2)}nm\")"
   ],
   "metadata": {
    "collapsed": false,
    "pycharm": {
     "name": "#%%\n"
    }
   }
  },
  {
   "cell_type": "code",
   "execution_count": 5,
   "outputs": [
    {
     "data": {
      "text/plain": "50.42576287172069"
     },
     "execution_count": 5,
     "metadata": {},
     "output_type": "execute_result"
    }
   ],
   "source": [
    "from numpy import arcsin, sin, pi, sqrt\n",
    "E_electron = (0.112*(10 ** 6))*q #times q to convert to joules\n",
    "E_scattered_photon = ((h * c) / (0.003191 * 10 ** (-9))) * q #times q to convert to joules\n",
    "p_electron = ((E_electron/c)**2 + 2*E_electron*m_e)**0.5\n",
    "theta = 45\n",
    "\n",
    "arcsin((E_scattered_photon * sin(theta * pi / 180)) / (p_electron*c)) * 180 / pi"
   ],
   "metadata": {
    "collapsed": false,
    "pycharm": {
     "name": "#%%\n"
    }
   }
  },
  {
   "cell_type": "code",
   "execution_count": 6,
   "outputs": [
    {
     "ename": "ModuleNotFoundError",
     "evalue": "No module named 'sympy'",
     "output_type": "error",
     "traceback": [
      "\u001B[1;31m---------------------------------------------------------------------------\u001B[0m",
      "\u001B[1;31mModuleNotFoundError\u001B[0m                       Traceback (most recent call last)",
      "Cell \u001B[1;32mIn [6], line 1\u001B[0m\n\u001B[1;32m----> 1\u001B[0m \u001B[38;5;28;01mfrom\u001B[39;00m \u001B[38;5;21;01msympy\u001B[39;00m \u001B[38;5;28;01mimport\u001B[39;00m symbols, diff, sqrt\n\u001B[0;32m      3\u001B[0m A, k, m \u001B[38;5;241m=\u001B[39m symbols(\u001B[38;5;124m'\u001B[39m\u001B[38;5;124mA k m\u001B[39m\u001B[38;5;124m'\u001B[39m, real \u001B[38;5;241m=\u001B[39m \u001B[38;5;28;01mTrue\u001B[39;00m)\n\u001B[0;32m      5\u001B[0m omega \u001B[38;5;241m=\u001B[39m (A\u001B[38;5;241m/\u001B[39mh_bar)\u001B[38;5;241m*\u001B[39m(sqrt(\u001B[38;5;241m1\u001B[39m\u001B[38;5;241m+\u001B[39m(h_bar\u001B[38;5;241m*\u001B[39m\u001B[38;5;241m*\u001B[39m\u001B[38;5;241m2\u001B[39m)\u001B[38;5;241m*\u001B[39m(k\u001B[38;5;241m*\u001B[39m\u001B[38;5;241m*\u001B[39m\u001B[38;5;241m2\u001B[39m)\u001B[38;5;241m/\u001B[39m(m\u001B[38;5;241m*\u001B[39mA))\u001B[38;5;241m-\u001B[39m\u001B[38;5;241m1\u001B[39m)\n",
      "\u001B[1;31mModuleNotFoundError\u001B[0m: No module named 'sympy'"
     ]
    }
   ],
   "source": [
    "from sympy import symbols, diff, sqrt\n",
    "\n",
    "A, k, m = symbols('A k m', real = True)\n",
    "\n",
    "omega = (A/h_bar)*(sqrt(1+(h_bar**2)*(k**2)/(m*A))-1)\n",
    "\n",
    "diff(omega, k)"
   ],
   "metadata": {
    "collapsed": false,
    "pycharm": {
     "name": "#%%\n"
    }
   }
  },
  {
   "cell_type": "code",
   "execution_count": null,
   "outputs": [],
   "source": [],
   "metadata": {
    "collapsed": false,
    "pycharm": {
     "name": "#%%\n"
    }
   }
  }
 ],
 "metadata": {
  "kernelspec": {
   "display_name": "Python 3",
   "language": "python",
   "name": "python3"
  },
  "language_info": {
   "codemirror_mode": {
    "name": "ipython",
    "version": 2
   },
   "file_extension": ".py",
   "mimetype": "text/x-python",
   "name": "python",
   "nbconvert_exporter": "python",
   "pygments_lexer": "ipython2",
   "version": "2.7.6"
  }
 },
 "nbformat": 4,
 "nbformat_minor": 0
}