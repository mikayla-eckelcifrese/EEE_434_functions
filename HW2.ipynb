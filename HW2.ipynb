{
 "cells": [
  {
   "cell_type": "markdown",
   "source": [
    "# 1\n",
    "A particle is represented by the wave function\n",
    "$\n",
    "\\begin{equation*}\n",
    "\\psi (x)=\\begin{cases}\n",
    "\\frac{Ax}{a} & 0\\leq x\\leq a\\\\\n",
    "\\frac{A( b-x)}{b-a} & a\\leq x\\leq b\\\\\n",
    "0 & \\text{otherwise}\n",
    "\\end{cases}\n",
    "\\end{equation*}\n",
    "$\n",
    "where $A, a \\text{ and } b$ are constants.\n",
    "\n"
   ],
   "metadata": {
    "collapsed": false,
    "pycharm": {
     "name": "#%% md\n"
    }
   }
  },
  {
   "cell_type": "code",
   "execution_count": 2,
   "metadata": {
    "pycharm": {
     "name": "#%%\n"
    }
   },
   "outputs": [
    {
     "data": {
      "text/plain": "[-sqrt(3)*sqrt(1/b), sqrt(3)*sqrt(1/b)]"
     },
     "execution_count": 2,
     "metadata": {},
     "output_type": "execute_result"
    }
   ],
   "source": [
    "from sympy import symbols, integrate, Piecewise, solve\n",
    "\n",
    "A, b, x = symbols('A b x', real = True,  conds = 'none')\n",
    "a = symbols('a', real = True, nonzero = True)\n",
    "\n",
    "psi1 = A*x/a\n",
    "psi2 = A*(b-x)/(b-a)\n",
    "\n",
    "temp = integrate(psi1**2, (x, 0, a)) + integrate(psi2**2, (x, a, b))\n",
    "\n",
    "solve(temp - 1, A)"
   ]
  },
  {
   "cell_type": "code",
   "execution_count": null,
   "outputs": [],
   "source": [],
   "metadata": {
    "collapsed": false,
    "pycharm": {
     "name": "#%%\n"
    }
   }
  }
 ],
 "metadata": {
  "kernelspec": {
   "display_name": "Python 3 (ipykernel)",
   "language": "python",
   "name": "python3"
  },
  "language_info": {
   "codemirror_mode": {
    "name": "ipython",
    "version": 3
   },
   "file_extension": ".py",
   "mimetype": "text/x-python",
   "name": "python",
   "nbconvert_exporter": "python",
   "pygments_lexer": "ipython3",
   "version": "3.11.0"
  }
 },
 "nbformat": 4,
 "nbformat_minor": 1
}