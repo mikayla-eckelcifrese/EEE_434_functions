{
 "cells": [
  {
   "cell_type": "markdown",
   "metadata": {
    "pycharm": {
     "name": "#%% md\n"
    }
   },
   "source": [
    "# Task 1\n",
    "\n",
    "Thus, for you report, perform the following simulations, listing all parameters used, and take a\n",
    "screengrab or export each plot for your report:\n",
    "1. Start the simulation with the default settings for barrier height, barrier thickness, particle\n",
    "energy/momentum and particle mass. Pause the simulation once the wave has completely\n",
    "propagated though the barrier by left clicking on the plot window. You can close the window\n",
    "and restart the simulation of you missed the “sweet time spot”. Clicking on the plot again\n",
    "resumes the time evolution simulation. (10 pts)\n",
    "2. Repeat the simulation, changing one parameter, for example the barrier thickness. What\n",
    "happens to the transmitted wave function? If your transmission probability has dropped so low\n",
    "that you cannot see the transmitted wave function anymore, reduce the amount of change in\n",
    "the parameter value. (10 pts)\n",
    "3. Repeat the simulation but change another parameter. You can reset the first parameter to its\n",
    "original value or leave it as-is. What happens to the transmitted wave function? (10 pts)\n"
   ]
  },
  {
   "cell_type": "markdown",
   "metadata": {
    "pycharm": {
     "name": "#%%\n"
    }
   },
   "source": []
  }
 ],
 "metadata": {
  "kernelspec": {
   "display_name": "Python 3 (ipykernel)",
   "language": "python",
   "name": "python3"
  },
  "language_info": {
   "codemirror_mode": {
    "name": "ipython",
    "version": 3
   },
   "file_extension": ".py",
   "mimetype": "text/x-python",
   "name": "python",
   "nbconvert_exporter": "python",
   "pygments_lexer": "ipython3",
   "version": "3.11.0"
  }
 },
 "nbformat": 4,
 "nbformat_minor": 1
}