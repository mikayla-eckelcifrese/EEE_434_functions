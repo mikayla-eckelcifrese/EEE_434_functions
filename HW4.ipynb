{
 "cells": [
  {
   "cell_type": "code",
   "execution_count": 2,
   "outputs": [],
   "source": [
    "%matplotlib widget"
   ],
   "metadata": {
    "collapsed": false,
    "pycharm": {
     "name": "#%%\n"
    }
   }
  },
  {
   "cell_type": "code",
   "execution_count": 3,
   "outputs": [],
   "source": [
    "import quantities as units\n",
    "from quantities import UnitQuantity, m, nm, Hz, MHz, s, kg, eV, J, C, K\n",
    "from sympy import symbols, integrate, solve, latex\n",
    "from IPython.display import display, Math\n",
    "from numpy import linspace, exp, e, pi\n",
    "from plotly.express import scatter\n",
    "from pandas import DataFrame, concat"
   ],
   "metadata": {
    "collapsed": false,
    "pycharm": {
     "name": "#%%\n"
    }
   }
  },
  {
   "cell_type": "markdown",
   "source": [
    "1. For a potential barrier with V(x) = 0 for |x| > a/2, and V(x) = 0.25 eV for |x| < a/2,\n",
    "  a.\tcalculate the tunneling probability for E = 0 eV (434: 6 pts, 591: 4 pts) <br></br>\n",
    "  b.\tplot the tunneling probability for E in the range 0 – 1 eV.\n",
    "Take the value a  = 3 nm and use the effective mass of GaAs: m* = 6.0  10-32 kg.\n",
    "Hint: You can use NanoHub to simulate the structure.\n",
    "(434: 10 pts, 591: 5 pts)\n"
   ],
   "metadata": {
    "collapsed": false,
    "pycharm": {
     "name": "#%% md\n"
    }
   }
  },
  {
   "cell_type": "markdown",
   "source": [
    "### a"
   ],
   "metadata": {
    "collapsed": false,
    "pycharm": {
     "name": "#%% md\n"
    }
   }
  },
  {
   "cell_type": "code",
   "execution_count": 27,
   "outputs": [],
   "source": [
    "from sympy import symbols, sqrt, I, integrate, solve, oo\n",
    "import sympy as sy\n",
    "Exp = sy.exp\n",
    "\n",
    "x, hbar, m, E, V0, a, A, B, C, D, F, G = symbols('x hbar m E V0 a A B C D F G', real=True, positive=True)\n",
    "\n",
    "# Define wave functions in different regions\n",
    "k1 = sqrt(2 * m * E) / hbar\n",
    "k2 = sqrt(2 * m * (E - V0)) / hbar\n",
    "k3 = k1\n",
    "\n",
    "psi1 = A * Exp(I * k1 * x) + B * Exp(-I * k1 * x)  # x < 0\n",
    "psi2 = C * Exp(-I * k2 * x) + D * Exp(I * k2) # 0 < x < a\n",
    "psi3 = F * Exp(-I * k3 * x) + G * Exp(I * k3) # x > a\n",
    "\n",
    "\n",
    "\n",
    "# Apply boundary conditions\n",
    "eq1 = psi1.subs(x, 0) - psi2.subs(x, 0)\n",
    "eq2 = psi1.diff(x).subs(x, 0) - psi2.diff(x).subs(x, 0)\n",
    "eq3 = psi2.diff(x).subs(x, a) - psi3.diff(x).subs(x, a)\n",
    "\n",
    "cdf1 = integrate(psi1*psi1.conjugate(),(x, -oo, 0))\n",
    "cdf2 = integrate(psi2*psi2.conjugate(), (x, 0, a))\n",
    "cdf3 = integrate(psi3*psi3.conjugate(), (x, a, oo))\n",
    "\n",
    "eq4 = cdf1 + cdf2 + cdf3 - 1\n",
    "\n",
    "# Solve for coefficients\n",
    "sol1 = solve([eq1, eq2])\n",
    "sol2 = solve(eq3, C)"
   ],
   "metadata": {
    "collapsed": false,
    "pycharm": {
     "name": "#%%\n"
    }
   }
  },
  {
   "cell_type": "code",
   "execution_count": 28,
   "outputs": [
    {
     "data": {
      "text/plain": "<IPython.core.display.Math object>",
      "text/latex": "$\\displaystyle \\left[ \\left\\{ A : \\frac{C \\left(e^{\\frac{\\sqrt{2} i \\sqrt{E} a \\sqrt{m}}{2 \\hbar}} - e^{\\frac{\\sqrt{2} i a \\sqrt{m} \\left(3 \\sqrt{E} + 2 \\sqrt{E - V_{0}}\\right)}{2 \\hbar}}\\right) e^{- \\frac{\\sqrt{2} i a \\sqrt{m} \\sqrt{E - V_{0}}}{2 \\hbar}}}{1 - e^{\\frac{2 \\sqrt{2} i \\sqrt{E} a \\sqrt{m}}{\\hbar}}}, \\  B : \\frac{C \\left(e^{\\frac{\\sqrt{2} i \\sqrt{E} a \\sqrt{m}}{\\hbar}} - e^{\\frac{\\sqrt{2} i a \\sqrt{m} \\sqrt{E - V_{0}}}{\\hbar}}\\right) e^{\\frac{\\sqrt{2} i a \\sqrt{m} \\left(\\sqrt{E} - \\sqrt{E - V_{0}}\\right)}{2 \\hbar}}}{e^{\\frac{2 \\sqrt{2} i \\sqrt{E} a \\sqrt{m}}{\\hbar}} - 1}\\right\\}\\right]$"
     },
     "metadata": {},
     "output_type": "display_data"
    },
    {
     "data": {
      "text/plain": "<IPython.core.display.Math object>",
      "text/latex": "$\\displaystyle \\left[ \\right]$"
     },
     "metadata": {},
     "output_type": "display_data"
    }
   ],
   "source": [
    "display(Math(latex(sol1)))\n",
    "display(Math(latex(sol2)))"
   ],
   "metadata": {
    "collapsed": false,
    "pycharm": {
     "name": "#%%\n"
    }
   }
  },
  {
   "cell_type": "code",
   "execution_count": 32,
   "outputs": [
    {
     "data": {
      "text/plain": "[]"
     },
     "execution_count": 32,
     "metadata": {},
     "output_type": "execute_result"
    }
   ],
   "source": [
    "sol2 = solve([eq3])\n",
    "sol2"
   ],
   "metadata": {
    "collapsed": false,
    "pycharm": {
     "name": "#%%\n"
    }
   }
  },
  {
   "cell_type": "code",
   "execution_count": 33,
   "outputs": [
    {
     "data": {
      "text/plain": "sqrt(2)*I*C**2*hbar*exp(sqrt(2)*I*sqrt(m)*x*sqrt(E - V0)/hbar)/(-2*sqrt(m)*sqrt(E - V0)*exp(sqrt(2)*I*sqrt(m)*x*conjugate(sqrt(E - V0))/hbar) + 2*sqrt(m)*exp(sqrt(2)*I*sqrt(m)*x*conjugate(sqrt(E - V0))/hbar)*conjugate(sqrt(E - V0))) + x*(A**2 + B**2) - 1 + (-4*sqrt(2)*I*A*B*sqrt(E)*hbar*sqrt(m)*exp(2*sqrt(2)*I*sqrt(E)*sqrt(m)*x/hbar) + 4*sqrt(2)*I*A*B*sqrt(E)*hbar*sqrt(m)*exp(-2*sqrt(2)*I*sqrt(E)*sqrt(m)*x/hbar))/(16*E*m)",
      "text/latex": "$\\displaystyle \\frac{\\sqrt{2} i C^{2} \\hbar e^{\\frac{\\sqrt{2} i \\sqrt{m} x \\sqrt{E - V_{0}}}{\\hbar}}}{- 2 \\sqrt{m} \\sqrt{E - V_{0}} e^{\\frac{\\sqrt{2} i \\sqrt{m} x \\overline{\\sqrt{E - V_{0}}}}{\\hbar}} + 2 \\sqrt{m} e^{\\frac{\\sqrt{2} i \\sqrt{m} x \\overline{\\sqrt{E - V_{0}}}}{\\hbar}} \\overline{\\sqrt{E - V_{0}}}} + x \\left(A^{2} + B^{2}\\right) - 1 + \\frac{- 4 \\sqrt{2} i A B \\sqrt{E} \\hbar \\sqrt{m} e^{\\frac{2 \\sqrt{2} i \\sqrt{E} \\sqrt{m} x}{\\hbar}} + 4 \\sqrt{2} i A B \\sqrt{E} \\hbar \\sqrt{m} e^{- \\frac{2 \\sqrt{2} i \\sqrt{E} \\sqrt{m} x}{\\hbar}}}{16 E m}$"
     },
     "execution_count": 33,
     "metadata": {},
     "output_type": "execute_result"
    }
   ],
   "source": [
    "eq3 = integrate(psi1 * psi1.conjugate(), (x, ) + psi2 * psi2.conjugate(), (x, -oo, oo)) - 1  # normalization condition\n"
   ],
   "metadata": {
    "collapsed": false,
    "pycharm": {
     "name": "#%%\n"
    }
   }
  },
  {
   "cell_type": "code",
   "execution_count": 35,
   "outputs": [
    {
     "data": {
      "text/plain": "A*exp(sqrt(2)*I*sqrt(E)*sqrt(m)*x/hbar) + B*exp(-sqrt(2)*I*sqrt(E)*sqrt(m)*x/hbar) + C*exp(sqrt(2)*I*sqrt(m)*x*sqrt(E - V0)/hbar)",
      "text/latex": "$\\displaystyle A e^{\\frac{\\sqrt{2} i \\sqrt{E} \\sqrt{m} x}{\\hbar}} + B e^{- \\frac{\\sqrt{2} i \\sqrt{E} \\sqrt{m} x}{\\hbar}} + C e^{\\frac{\\sqrt{2} i \\sqrt{m} x \\sqrt{E - V_{0}}}{\\hbar}}$"
     },
     "execution_count": 35,
     "metadata": {},
     "output_type": "execute_result"
    }
   ],
   "source": [],
   "metadata": {
    "collapsed": false,
    "pycharm": {
     "name": "#%%\n"
    }
   }
  }
 ],
 "metadata": {
  "kernelspec": {
   "display_name": "Python 3",
   "language": "python",
   "name": "python3"
  },
  "language_info": {
   "codemirror_mode": {
    "name": "ipython",
    "version": 2
   },
   "file_extension": ".py",
   "mimetype": "text/x-python",
   "name": "python",
   "nbconvert_exporter": "python",
   "pygments_lexer": "ipython2",
   "version": "2.7.6"
  }
 },
 "nbformat": 4,
 "nbformat_minor": 0
}