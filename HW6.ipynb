{
 "cells": [
  {
   "cell_type": "code",
   "execution_count": null,
   "outputs": [],
   "source": [
    "from quantities import UnitQuantity, m, nm, Hz, MHz, s, kg, eV, J, C, K, N, A\n",
    "\n",
    "from sympy import symbols, integrate, solve, latex, oo, simplify\n",
    "import sympy as sy\n",
    "from IPython.display import display, Math\n",
    "\n",
    "from numpy import linspace, exp, e, pi, sqrt, sinh, imag, sin, vectorize, where, delete, absolute\n",
    "import numpy as np\n",
    "\n",
    "from plotly.express import scatter\n",
    "from pandas import DataFrame\n",
    "\n",
    "def Units(x, units):\n",
    "    x.units = units\n",
    "    return x\n",
    "\n",
    "def split_off_units(x, decimal_places = None):\n",
    "    if decimal_places is not None:\n",
    "        x = round(x, decimal_places)\n",
    "    x = str(x)\n",
    "    return f'{x.split()[0]} \\\\text{{{x.split()[1]} }}'\n",
    "\n",
    "epsilon0 = 8.854187817 * 10**(-12) * C**2/(N*m**2)\n",
    "mu0 = 4*pi*10**(-7) * N/(A**2)\n",
    "c = 1/(mu0*epsilon0)**0.5"
   ],
   "metadata": {
    "collapsed": false,
    "pycharm": {
     "name": "#%%\n"
    }
   }
  },
  {
   "cell_type": "code",
   "execution_count": null,
   "outputs": [],
   "source": [
    "# 1."
   ],
   "metadata": {
    "collapsed": false,
    "pycharm": {
     "name": "#%%\n"
    }
   }
  },
  {
   "cell_type": "markdown",
   "source": [
    "Show that the commutator relation $\\left[\\vec{r},{\\vec{p}}^2\\right]=2i\\hbar\\vec{p}$ holds true. (434: 10 pts, 591: 6 pts)"
   ],
   "metadata": {
    "collapsed": false,
    "pycharm": {
     "name": "#%% md\n"
    }
   }
  },
  {
   "cell_type": "markdown",
   "source": [],
   "metadata": {
    "collapsed": false,
    "pycharm": {
     "name": "#%% md\n"
    }
   }
  },
  {
   "cell_type": "code",
   "execution_count": null,
   "outputs": [],
   "source": [],
   "metadata": {
    "collapsed": false,
    "pycharm": {
     "name": "#%%\n"
    }
   }
  },
  {
   "cell_type": "markdown",
   "source": [
    "# 2."
   ],
   "metadata": {
    "collapsed": false,
    "pycharm": {
     "name": "#%% md\n"
    }
   }
  },
  {
   "cell_type": "markdown",
   "source": [
    "Like what we have done for the Harmonic Oscillator, we can define a ladder operator for the angular momentum: $L_\\pm=L_x\\pm\\ iL_y$. The benefit of such a ladder operator is that we can generate the higher (and lower) order wave functions by applying the respective ladder operator. The ladder operators for the angular momentum change the value of the quantum number m of the Spherical Harmonics Y_l^mby one unit:\n",
    "\n",
    "$$L_\\pm Y_l^m=\\hbar\\sqrt{l\\left(l+1\\right)-m(m\\pm1)}\\ Y_l^{m\\pm1}$$\n",
    "\n",
    "### a. \n",
    "\n",
    "Using the equations for the Spherical Harmonic function for $Y_1^0$, show that the ladder operators reproduce the Spherical Harmonic functions for $Y_1^{-1}$ and $Y_1^1$, respectively. \n",
    "\n",
    "### b. \n",
    "\n",
    "Plot all three functions (or their absolute square) separately to visualize them. (all: 20 pts + 10 pts bonus)\n",
    "\n",
    "Caution, this is a very lengthy problem. If you use external sources to help you out, please cite them.\n",
    "\n",
    "You can have a look at the Wikipedia page for the Spherical Harmonics: https://en.wikipedia.org/wiki/Spherical_harmonics \n"
   ],
   "metadata": {
    "collapsed": false,
    "pycharm": {
     "name": "#%% md\n"
    }
   }
  },
  {
   "cell_type": "markdown",
   "source": [],
   "metadata": {
    "collapsed": false,
    "pycharm": {
     "name": "#%% md\n"
    }
   }
  },
  {
   "cell_type": "code",
   "execution_count": null,
   "outputs": [],
   "source": [],
   "metadata": {
    "collapsed": false,
    "pycharm": {
     "name": "#%%\n"
    }
   }
  },
  {
   "cell_type": "markdown",
   "source": [
    "# 3."
   ],
   "metadata": {
    "collapsed": false,
    "pycharm": {
     "name": "#%% md\n"
    }
   }
  },
  {
   "cell_type": "markdown",
   "source": [
    "Determine the wavelengths of the three lowest Lyman and Balmer transitions of the Hydrogen atom. (434: 10 pts, 591: 6 pts)\n",
    "\n",
    "Hint: These series are important in Astronomy and in Optical Spectroscopy, since a lot of UV-VIS spectrometers use Deuterium arc lamps.\n",
    "\n",
    "Answer from answer sheet:\n",
    "\n",
    "Lyman 2 – 1 : λ = 121.6 nm.\n"
   ],
   "metadata": {
    "collapsed": false,
    "pycharm": {
     "name": "#%% md\n"
    }
   }
  },
  {
   "cell_type": "markdown",
   "source": [],
   "metadata": {
    "collapsed": false,
    "pycharm": {
     "name": "#%% md\n"
    }
   }
  },
  {
   "cell_type": "code",
   "execution_count": null,
   "outputs": [],
   "source": [],
   "metadata": {
    "collapsed": false,
    "pycharm": {
     "name": "#%%\n"
    }
   }
  },
  {
   "cell_type": "markdown",
   "source": [
    "# 4."
   ],
   "metadata": {
    "collapsed": false,
    "pycharm": {
     "name": "#%% md\n"
    }
   }
  },
  {
   "cell_type": "markdown",
   "source": [
    "How large is the energy shift of the $l=1$ energy level of a Hydrogen atom in an external magnetic field of $B = 0.3\\text{T}$, assuming that there is only an interaction with the angular magnetic moment? (434: 10 pts, 591: 6 pts)\n",
    "\n",
    "Answer from answer sheet:\n",
    "\n",
    "$E_{\\text{shift}} = 9.27\\cdot 10^{−24} \\text{J} \\cdot \\text{B} = 5.79\\cdot10^{−5} \\text{eV} \\cdot \\text{B}  = 2.78\\cdot10^{-24} \\text{J} = 1.74\\cdot10^{−5} \\text{eV}$\n"
   ],
   "metadata": {
    "collapsed": false,
    "pycharm": {
     "name": "#%% md\n"
    }
   }
  },
  {
   "cell_type": "code",
   "execution_count": null,
   "outputs": [],
   "source": [],
   "metadata": {
    "collapsed": false,
    "pycharm": {
     "name": "#%%\n"
    }
   }
  },
  {
   "cell_type": "markdown",
   "metadata": {},
   "source": []
  },
  {
   "cell_type": "code",
   "execution_count": null,
   "metadata": {},
   "outputs": [],
   "source": []
  },
  {
   "cell_type": "markdown",
   "metadata": {},
   "source": [
    "# 2."
   ]
  },
  {
   "cell_type": "markdown",
   "metadata": {},
   "source": [
    "Like what we have done for the Harmonic Oscillator, we can define a ladder operator for the angular momentum: $L_\\pm=L_x\\pm\\ iL_y$. The benefit of such a ladder operator is that we can generate the higher (and lower) order wave functions by applying the respective ladder operator. The ladder operators for the angular momentum change the value of the quantum number m of the Spherical Harmonics Y_l^mby one unit:\n",
    "\n",
    "$$L_\\pm Y_l^m=\\hbar\\sqrt{l\\left(l+1\\right)-m(m\\pm1)}\\ Y_l^{m\\pm1}$$\n",
    "\n",
    "### a. \n",
    "\n",
    "Using the equations for the Spherical Harmonic function for $Y_1^0$, show that the ladder operators reproduce the Spherical Harmonic functions for $Y_1^{-1}$ and $Y_1^1$, respectively. \n",
    "\n",
    "### b. \n",
    "\n",
    "Plot all three functions (or their absolute square) separately to visualize them. (all: 20 pts + 10 pts bonus)\n",
    "\n",
    "Caution, this is a very lengthy problem. If you use external sources to help you out, please cite them.\n",
    "\n",
    "You can have a look at the Wikipedia page for the Spherical Harmonics: https://en.wikipedia.org/wiki/Spherical_harmonics \n"
   ]
  },
  {
   "cell_type": "markdown",
   "metadata": {},
   "source": []
  },
  {
   "cell_type": "code",
   "execution_count": null,
   "metadata": {},
   "outputs": [],
   "source": []
  },
  {
   "cell_type": "markdown",
   "metadata": {},
   "source": [
    "# 3."
   ]
  },
  {
   "cell_type": "markdown",
   "metadata": {},
   "source": [
    "Determine the wavelengths of the three lowest Lyman and Balmer transitions of the Hydrogen atom. (434: 10 pts, 591: 6 pts)\n",
    "\n",
    "Hint: These series are important in Astronomy and in Optical Spectroscopy, since a lot of UV-VIS spectrometers use Deuterium arc lamps.\n",
    "\n",
    "Answer from answer sheet:\n",
    "\n",
    "Lyman 2 – 1 : λ = 121.6 nm.\n"
   ]
  },
  {
   "cell_type": "markdown",
   "metadata": {},
   "source": []
  },
  {
   "cell_type": "code",
   "execution_count": null,
   "metadata": {},
   "outputs": [],
   "source": []
  },
  {
   "cell_type": "markdown",
   "metadata": {},
   "source": [
    "# 4."
   ]
  },
  {
   "cell_type": "markdown",
   "metadata": {},
   "source": [
    "How large is the energy shift of the $l=1$ energy level of a Hydrogen atom in an external magnetic field of $B = 0.3\\text{T}$, assuming that there is only an interaction with the angular magnetic moment? (434: 10 pts, 591: 6 pts)\n",
    "\n",
    "Answer from answer sheet:\n",
    "\n",
    "$E_{\\text{shift}} = 9.27\\cdot 10^{−24} \\text{J} \\cdot \\text{B} = 5.79\\cdot10^{−5} \\text{eV} \\cdot \\text{B}  = 2.78\\cdot10^{-24} \\text{J} = 1.74\\cdot10^{−5} \\text{eV}$\n"
   ]
  },
  {
   "cell_type": "code",
   "execution_count": null,
   "metadata": {},
   "outputs": [],
   "source": []
  }
 ],
 "metadata": {
  "kernelspec": {
   "display_name": "Python 3 (ipykernel)",
   "language": "python",
   "name": "python3"
  },
  "language_info": {
   "codemirror_mode": {
    "name": "ipython",
    "version": 3
   },
   "file_extension": ".py",
   "mimetype": "text/x-python",
   "name": "python",
   "nbconvert_exporter": "python",
   "pygments_lexer": "ipython3",
   "version": "3.11.0"
  }
 },
 "nbformat": 4,
 "nbformat_minor": 1
}