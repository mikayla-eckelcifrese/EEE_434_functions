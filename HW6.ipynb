{
 "cells": [
  {
   "cell_type": "code",
   "execution_count": null,
   "outputs": [],
   "source": [
    "from quantities import UnitQuantity, m, nm, Hz, MHz, s, kg, eV, J, C, K, N, A\n",
    "\n",
    "from sympy import symbols, integrate, solve, latex, oo, simplify, Function, I, lambdify\n",
    "from sympy.physics.quantum import Bra, Ket, Commutator, Operator\n",
    "\n",
    "import sympy as sp \n",
    "from IPython.display import display, Math\n",
    "\n",
    "from numpy import linspace, exp, e, pi, sqrt, sin, vectorize, power\n",
    "import numpy as np\n",
    "\n",
    "from plotly.express import scatter\n",
    "from pandas import DataFrame\n",
    "\n",
    "def Units(x, units):\n",
    "    x.units = units\n",
    "    return x\n",
    "\n",
    "def split_off_units(x, decimal_places = None):\n",
    "    if decimal_places is not None:\n",
    "        x = round(x, decimal_places)\n",
    "    x = str(x)\n",
    "    return f'{x.split()[0]} \\\\text{{{x.split()[1]} }}'\n",
    "\n",
    "epsilon0 = 8.854187817 * 10**(-12) * C**2/(N*m**2)\n",
    "mu0 = 4*pi*10**(-7) * N/(A**2)\n",
    "c = 1/(mu0*epsilon0)**0.5"
   ],
   "metadata": {
    "collapsed": false,
    "pycharm": {
     "name": "#%%\n"
    }
   }
  },
  {
   "cell_type": "code",
   "execution_count": null,
   "outputs": [],
   "source": [
    "# 1."
   ],
   "metadata": {
    "collapsed": false,
    "pycharm": {
     "name": "#%%\n"
    }
   }
  },
  {
   "cell_type": "markdown",
   "source": [
    "Show that the commutator relation $\\left[\\vec{r},{\\vec{p}}^2\\right]=2i\\hbar\\vec{p}$ holds true. (434: 10 pts, 591: 6 pts)"
   ],
   "metadata": {
    "collapsed": false,
    "pycharm": {
     "name": "#%% md\n"
    }
   }
  },
  {
   "cell_type": "code",
   "execution_count": null,
   "outputs": [],
   "source": [
    "hbar = symbols('hbar', real = True, positive = True, constant = True)\n",
    "r = symbols('r', real = True)\n",
    "r_sym = symbols('r', commutative = False)\n",
    "psi = Function('\\psi')(r)\n",
    "\n",
    "def p(psi):\n",
    "    return -I*hbar*psi.diff(r)\n",
    "\n",
    "\n",
    "commutator = (r * p(p(psi)) - p(p(r*psi))).expand()\n",
    "\n",
    "display(Math(f'\\\\left[\\\\vec{{r}},{{ \\\\vec{{p}} }}^2 \\\\right] = {latex(commutator)} =' \n",
    "             '2i\\\\hbar\\\\cdot-i\\hbar \\\\frac{{d}}{{dr}} \\\\psi(r) = 2i\\hbar p(\\psi)'))"
   ],
   "metadata": {
    "collapsed": false,
    "pycharm": {
     "name": "#%%\n"
    }
   }
  },
  {
   "cell_type": "markdown",
   "source": [
    "# 2."
   ],
   "metadata": {
    "collapsed": false,
    "pycharm": {
     "name": "#%% md\n"
    }
   }
  },
  {
   "cell_type": "markdown",
   "source": [
    "Like what we have done for the Harmonic Oscillator, we can define a ladder operator for the angular momentum: $L_\\pm=L_x\\pm\\ iL_y$. The benefit of such a ladder operator is that we can generate the higher (and lower) order wave functions by applying the respective ladder operator. The ladder operators for the angular momentum change the value of the quantum number m of the Spherical Harmonics $Y_l^m$ by one unit:\n",
    "\n",
    "$$L_\\pm Y_l^m=\\hbar\\sqrt{l\\left(l+1\\right)-m(m\\pm1)}\\ Y_l^{m\\pm1}$$ \n",
    "\n",
    "Using the equations for the Spherical Harmonic function for $Y_1^0$, show that the ladder operators reproduce the Spherical Harmonic functions for $Y_1^{-1}$ and $Y_1^1$, respectively. \n",
    "\n",
    "\n",
    "Caution, this is a very lengthy problem. If you use external sources to help you out, please cite them.\n",
    "\n",
    "You can have a look at the Wikipedia page for the Spherical Harmonics: https://en.wikipedia.org/wiki/Spherical_harmonics "
   ],
   "metadata": {
    "collapsed": false,
    "pycharm": {
     "name": "#%% md\n"
    }
   }
  },
  {
   "cell_type": "markdown",
   "source": [
    "![spherical_harmonics.jpg](attachment:spherical_harmonics.jpg)\n",
    "\n",
    "Source: [brilliant.org - Spherical Harmonics](https://brilliant.org/wiki/spherical-harmonics/#:~:text=Spherical%20harmonics%20are%20a%20set%20of%20functions%20used,variable%20%28%28functions%20on%20the%20circle%20S%5E1%29.%20S%201%29.) "
   ],
   "metadata": {
    "collapsed": false,
    "pycharm": {
     "name": "#%% md\n"
    }
   }
  },
  {
   "cell_type": "markdown",
   "source": [
    "![angular_momentum_ladder_operators_spherical_coordinates.jpg](attachment:angular_momentum_ladder_operators_spherical_coordinates.jpg)\n",
    "\n",
    "Source: https://en.wikipedia.org/wiki/Angular_momentum_operator#Orbital_angular_momentum_in_spherical_coordinates"
   ],
   "metadata": {
    "collapsed": false,
    "pycharm": {
     "name": "#%% md\n"
    }
   }
  },
  {
   "cell_type": "code",
   "execution_count": null,
   "outputs": [],
   "source": [
    "phi, theta = symbols('\\phi theta', real = True)\n",
    "\n",
    "def L_plus(psi):\n",
    "    l = 1; m = 1\n",
    "    prefactor = 1/(hbar*sp.sqrt(l*(l+1) - m*(m - 1)))\n",
    "    return hbar*sp.exp(I*phi)*(psi.diff(theta) + I*sp.cot(theta)*psi.diff(phi)) * prefactor\n",
    "\n",
    "def L_minus(psi): \n",
    "    l = 1; m = -1\n",
    "    prefactor = 1/(hbar*sp.sqrt(l*(l+1) - m*(m + 1)))\n",
    "    return hbar*sp.exp(-I*phi)*(-psi.diff(theta) + I*sp.cot(theta)*psi.diff(phi)) * prefactor\n",
    "\n",
    "Y_0 = sp.sqrt(3/(4*sp.pi))*sp.cos(theta)\n",
    "\n",
    "display(Math(f'Y_1^{{1}} = {latex(L_plus(Y_0))}'))\n",
    "display(Math(f'Y_1^{{-1}} = {latex(L_minus(Y_0))}'))"
   ],
   "metadata": {
    "collapsed": false,
    "pycharm": {
     "name": "#%%\n"
    }
   }
  },
  {
   "cell_type": "markdown",
   "source": [
    "# 3."
   ],
   "metadata": {
    "collapsed": false,
    "pycharm": {
     "name": "#%% md\n"
    }
   }
  },
  {
   "cell_type": "markdown",
   "source": [
    "Determine the wavelengths of the three lowest Lyman and Balmer transitions of the Hydrogen atom. (434: 10 pts, 591: 6 pts)\n",
    "\n",
    "Hint: These series are important in Astronomy and in Optical Spectroscopy, since a lot of UV-VIS spectrometers use Deuterium arc lamps.\n",
    "\n",
    "Answer from answer sheet:\n",
    "\n",
    "Lyman $_{2 \\rightarrow 1} : λ = 121.6$ nm.\n"
   ],
   "metadata": {
    "collapsed": false,
    "pycharm": {
     "name": "#%% md\n"
    }
   }
  },
  {
   "cell_type": "markdown",
   "source": [
    "Solving for $\\lambda$ in Bohr's formula for spectral lines gives:\n",
    "\n",
    "$$\n",
    "\\lambda = \\frac{p^2 n^2}{n^2-p^2}\\frac{1}{R}\n",
    "$$\n",
    "\n",
    "![lyman-series.jpg](attachment:lyman-series.jpg)\n",
    "\n",
    "<img src=\"Balmer-series.jpg\">\n",
    "\n",
    "Source: https://thefactfactor.com/facts/pure_science/physics/hydrogen-spectrum/9122/ "
   ],
   "metadata": {
    "collapsed": false,
    "pycharm": {
     "name": "#%% md\n"
    }
   }
  },
  {
   "cell_type": "code",
   "execution_count": null,
   "outputs": [],
   "source": [
    "R = 1.097E7*m**(-1)\n",
    "\n",
    "@vectorize\n",
    "def Lambda(p, n):\n",
    "    return ((p**2 * n**2)/(n**2 - p**2) * Units(1/R, 'nm')).item()\n",
    "\n",
    "def lyman():\n",
    "    n = np.array([2, 3, 4])\n",
    "    p = 1\n",
    "    return (Lambda(p, n))\n",
    "\n",
    "def balmer():\n",
    "    n = np.array([3, 4, 5])\n",
    "    p = 2\n",
    "    return (Lambda(p, n))\n",
    "\n",
    "print('Lyman Series:')\n",
    "for i in [2,3,4]:\n",
    "    display(Math(f'\\\\lambda_{{ {i} \\\\rightarrow 1 }} = {round(lyman()[i-2], 3)} \\\\text{{nm}}'))\n",
    "    \n",
    "print('Balmer Series:')\n",
    "for i in [3,4, 5]:\n",
    "    display(Math(f'\\\\lambda_{{ {i} \\\\rightarrow 2 }} = {round(balmer()[i-3], 3)} \\\\text{{nm}}'))"
   ],
   "metadata": {
    "collapsed": false,
    "pycharm": {
     "name": "#%%\n"
    }
   }
  },
  {
   "cell_type": "code",
   "execution_count": null,
   "outputs": [],
   "source": [
    "Lambda(1,np.array([2,3, 4]))[2]"
   ],
   "metadata": {
    "collapsed": false,
    "pycharm": {
     "name": "#%%\n"
    }
   }
  },
  {
   "cell_type": "code",
   "execution_count": 12,
   "metadata": {},
   "outputs": [
    {
     "data": {
      "text/plain": [
       "97.23488301428137"
      ]
     },
     "execution_count": 12,
     "metadata": {},
     "output_type": "execute_result"
    }
   ],
   "source": [
    "Lambda(1,np.array([2,3, 4]))[2]"
   ]
  },
  {
   "cell_type": "markdown",
   "metadata": {},
   "source": [
    "# 4."
   ]
  },
  {
   "cell_type": "markdown",
   "metadata": {},
   "source": [
    "How large is the energy shift of the $l=1$ energy level of a Hydrogen atom in an external magnetic field of $B = 0.3\\text{T}$, assuming that there is only an interaction with the angular magnetic moment? (434: 10 pts, 591: 6 pts)\n",
    "\n",
    "Answer from answer sheet:\n",
    "\n",
    "$E_{\\text{shift}} = 9.27\\cdot 10^{−24} \\text{J} \\cdot \\text{B} = 5.79\\cdot10^{−5} \\text{eV} \\cdot \\text{B}  = 2.78\\cdot10^{-24} \\text{J} = 1.74\\cdot10^{−5} \\text{eV}$\n"
   ]
  },
  {
   "cell_type": "code",
   "execution_count": null,
   "metadata": {},
   "outputs": [],
   "source": []
  },
  {
   "cell_type": "code",
   "execution_count": null,
   "metadata": {},
   "outputs": [],
   "source": []
  },
  {
   "cell_type": "code",
   "execution_count": null,
   "metadata": {},
   "outputs": [],
   "source": []
  },
  {
   "cell_type": "code",
   "execution_count": null,
   "metadata": {},
   "outputs": [],
   "source": []
  },
  {
   "cell_type": "code",
   "execution_count": 63,
   "metadata": {},
   "outputs": [],
   "source": [
    "from sympy import symbols, integrate, solve, latex, oo, simplify, Function, I\n",
    "from sympy.physics.quantum import Bra, Ket, Commutator, Operator\n",
    "\n",
    "hbar = symbols('hbar', real = True, positive = True, constant = True)\n",
    "x = symbols('x', real = True)\n",
    "r = Operator('r')\n",
    "r_sym = symbols('r', commutative = False)\n",
    "p = Operator('p')\n",
    "psi = Function('\\psi')(r)\n",
    "\n",
    "def p_operator(f):\n",
    "    return -I*hbar*(Derivative(f, r))\n",
    "\n",
    "def r_operator(f):\n",
    "    return r*f\n",
    "\n",
    "p.apply_operator = p_operator\n",
    "r.apply_operator = r_operator\n",
    "\n",
    "\n",
    "(Commutator(r.apply_operator(psi), (p.apply_operator(psi))**2).doit())"
   ]
  }
 ],
 "metadata": {
  "kernelspec": {
   "display_name": "Python 3 (ipykernel)",
   "language": "python",
   "name": "python3"
  },
  "language_info": {
   "codemirror_mode": {
    "name": "ipython",
    "version": 3
   },
   "file_extension": ".py",
   "mimetype": "text/x-python",
   "name": "python",
   "nbconvert_exporter": "python",
   "pygments_lexer": "ipython3",
   "version": "3.11.0"
  }
 },
 "nbformat": 4,
 "nbformat_minor": 1
}