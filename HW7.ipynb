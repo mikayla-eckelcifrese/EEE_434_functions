{
 "cells": [
  {
   "attachments": {},
   "cell_type": "markdown",
   "metadata": {},
   "source": [
    "# 1.\n",
    "\n",
    "Find the lowest-order relativistic correction to the energy levels of a one-dimensional harmonic oscillator. Using first-order perturbation theory, the correction to $E_n$ is given by the expectation value of the lowest order relativistic correction to the Hamiltonian and can be expressed as:\n",
    "\n",
    "$$E_r^{(1)}=\\left \\langle Hr' \\right \\rangle =-\\frac{1}{2mc^2}\\left \\langle E-V^2 \\right \\rangle=\\frac{1}{2mc^2}\n",
    "\\left[E^2-2E \\left \\langle V \\right \\rangle +V^2\\right ]$$ \n",
    "Hint: You should use the same ladder operator approach that you used in Homework 5, Problem 3, to determine $<x^4>$. You can also break the $x^4$ term into two products $x^2x^2$ and compute the matrix element from \n",
    "\n",
    "<img src=\"image.jpg\">\n",
    "\n",
    "\n",
    "(434: 20 pts, 591: 16 pts)\n",
    "$$E_r^{(1)}=-\\frac{3}{32}\\left(\\frac{\\hbar^2\\omega^2}{mc^2}\\right)\\left(2n^2+2n+1\\right)$$\n"
   ]
  },
  {
   "cell_type": "markdown",
   "metadata": {},
   "source": [
    "For the 1d harmonic oscillator:\n",
    "\n",
    "$$ \\hat{H} = \\frac{\\hat{p}^2}{2m} + \\frac{1}{2}\\omega^2 \\hat{r}^2$$\n",
    "\n",
    "in terms of the ladder operators:\n",
    "\n",
    "$$\\hat{r}^2 = \n",
    "\\frac{\\hbar}{2m\\omega}\\left(a^2 + a\\cdot a^{\\dagger} + a^{\\dagger}\\cdot a + \\left(a^{\\dagger}\\right)^2\\right) \n",
    "$$\n",
    "\n",
    "$$\n",
    "\\hat{p}^2  = \n",
    "-\\frac{\\hbar m\\omega}{2}\\left(a^2 - \\left(a\\cdot a^{\\dagger} + a^{\\dagger}\\cdot a\\right) +  \\left(a^{\\dagger}\\right)^2\\right) \n",
    "$$\n",
    "\n",
    "Plugging into the formula for $\\hat{H}$:\n",
    "\n",
    "$$ \\hat{H} = \\frac{-\\frac{\\hbar m\\omega}{2}\\left(a^2 - \\left(a\\cdot a^{\\dagger} + a^{\\dagger}\\cdot a\\right) +  \\left(a^{\\dagger}\\right)^2\\right) \n",
    "}{2m} + \\frac{1}{2}\\omega^2 \\frac{\\hbar}{2m\\omega}\\left(a^2 + a\\cdot a^{\\dagger} + a^{\\dagger}\\cdot a + \\left(a^{\\dagger}\\right)^2\\right) =$$\n",
    "\n",
    "\n",
    "$$\n",
    "-\\frac{{\\hbar \\omega}\\left(a^2 - \\left(a\\cdot a^{\\dagger} + a^{\\dagger}\\cdot a\\right) +  \\left(a^{\\dagger}\\right)^2\\right) \n",
    "}{4} + \\frac{\\hbar\\omega}{4m}\\left(a^2 + a\\cdot a^{\\dagger} + a^{\\dagger}\\cdot a + \\left(a^{\\dagger}\\right)^2\\right) =\n",
    "$$\n",
    "\n",
    "$$\n",
    "\\frac{\\hbar\\omega}{4} \\left [ -\\left(a^2 - \\left(a\\cdot a^{\\dagger} + a^{\\dagger}\\cdot a\\right) +  \\left(a^{\\dagger}\\right)^2\\right)  + \\frac{1}{m}\\left(a^2 + a\\cdot a^{\\dagger} + a^{\\dagger}\\cdot a + \\left(a^{\\dagger}\\right)^2 \\right) \\right ]\n",
    "$$\n",
    "\n",
    "So \n",
    "\n",
    "$$\n",
    "\\hat{H}\\hat{r} = \\frac{\\hbar\\omega}{4} \\left [ -\\left(a^2 - \\left(a\\cdot a^{\\dagger} + a^{\\dagger}\\cdot a\\right) +  \\left(a^{\\dagger}\\right)^2\\right)  + \\frac{1}{m}\\left(a^2 + a\\cdot a^{\\dagger} + a^{\\dagger}\\cdot a + \\left(a^{\\dagger}\\right)^2 \\right) \\right ] \\sqrt{\\frac{\\hbar}{2m\\omega}}\\left(a^{\\dagger} + a\\right) \n",
    "$$"
   ]
  },
  {
   "cell_type": "markdown",
   "metadata": {},
   "source": [
    "Following my work on HW5 Q3, plugging that expression into the expectatiob value formula will result in the squared dagger operators cancelling out.\n",
    "\n",
    "So, \n",
    "\n",
    "$$\n",
    "\\left \\langle \\hat{H}\\hat{r} \\right \\rangle  = \n",
    "\\frac{\\hbar\\omega}{4}\\sqrt{\\frac{\\hbar}{2m\\omega}}\n",
    "\\left \\langle \n",
    "\\Psi_n^* \n",
    "\\left | \n",
    "\\left ( \n",
    "a\\cdot a^{\\dagger} + a^{\\dagger}\\cdot a  + \n",
    "\\frac{1}{m}\\left(a\\cdot a^{\\dagger} + a^{\\dagger}\\cdot a \\right) \n",
    "\\right ) \n",
    "\\left(a^{\\dagger} + a\\right)  \n",
    "\\right |\n",
    "\\Psi_n \n",
    "\\right \\rangle\n",
    "=\n",
    "$$\n",
    "\n",
    "$$\n",
    "\\left \\langle \\hat{H}\\hat{r} \\right \\rangle  = \n",
    "\\frac{\\hbar\\omega}{4}\\sqrt{\\frac{\\hbar}{2m\\omega}}\n",
    "\\left \\langle \n",
    "\\Psi_n^* \n",
    "\\left | \n",
    "\\left(a\\cdot a^{\\dagger} + a^{\\dagger}\\cdot a \\right)\\left(a^{\\dagger} + a\\right)\\left(1+\\frac{1}{m}\\right)   \n",
    "\\right |\n",
    "\\Psi_n \n",
    "\\right \\rangle\n",
    "=\n",
    "$$\n",
    "\n",
    "$$\n",
    "\\left \\langle \\hat{H}\\hat{r} \\right \\rangle  = \n",
    "\\frac{\\hbar\\omega}{4}\\sqrt{\\frac{\\hbar}{2m\\omega}} \\left(1+\\frac{1}{m}\\right) \n",
    "\\left \\langle \n",
    "\\Psi_n^* \n",
    "\\left | \n",
    "\\left(a\\cdot a^{\\dagger} + a^{\\dagger}\\cdot a \\right)\\left(a^{\\dagger} + a\\right)  \n",
    "\\right |\n",
    "\\Psi_n \n",
    "\\right \\rangle\n",
    "$$\n",
    "\n"
   ]
  },
  {
   "cell_type": "markdown",
   "metadata": {},
   "source": [
    "# 2.\n",
    "\n",
    "Calculate the lowest energy level of a one-dimensional harmonic oscillator using the Gaussian wave function $$\\psi\\left(x\\right)=Ae^{-bx^2}$$ as a variational wave function with $A$ being the normalization parameter.  Let the width b of the Gaussian be the parameter that is varied. \n",
    "\n",
    "(434: 20 pts, 591: 16 pts)"
   ]
  },
  {
   "cell_type": "code",
   "execution_count": null,
   "metadata": {},
   "outputs": [],
   "source": []
  },
  {
   "cell_type": "markdown",
   "metadata": {},
   "source": [
    "# 3.\n",
    "\n",
    "Can you use the same variational wave function as in (2) to determine the energy of the first excited state of the one-dimensional harmonic oscillator? Why or why not? \n",
    "\n",
    "(434: 10 pts, 591: 5 pts)"
   ]
  }
 ],
 "metadata": {
  "kernelspec": {
   "display_name": "Python 3 (ipykernel)",
   "language": "python",
   "name": "python3"
  },
  "language_info": {
   "codemirror_mode": {
    "name": "ipython",
    "version": 3
   },
   "file_extension": ".py",
   "mimetype": "text/x-python",
   "name": "python",
   "nbconvert_exporter": "python",
   "pygments_lexer": "ipython3",
   "version": "3.11.3"
  }
 },
 "nbformat": 4,
 "nbformat_minor": 1
}
