{
 "cells": [
  {
   "cell_type": "code",
   "execution_count": 55,
   "metadata": {
    "pycharm": {
     "name": "#%%\n"
    }
   },
   "outputs": [],
   "source": [
    "from sympy import symbols, latex, diff, exp\n",
    "from IPython.display import display, Math\n",
    "\n",
    "j = 1j "
   ]
  },
  {
   "cell_type": "markdown",
   "metadata": {
    "cell_style": "center",
    "pycharm": {
     "name": "#%% md\n"
    }
   },
   "source": [
    "# 1. \n",
    "Show that $e^{-\\frac{x^2}{2}}$ is an eigenfunction of the operator $\\frac{d^2}{dx^2}-x^2$, and find its eigenvalue.\n",
    "(434: 7 pts, 591: 5 pts)\n"
   ]
  },
  {
   "cell_type": "code",
   "execution_count": 56,
   "metadata": {
    "pycharm": {
     "name": "#%%\n"
    }
   },
   "outputs": [
    {
     "data": {
      "text/latex": [
       "$\\displaystyle f : \\psi(x) \\rightarrow \\frac{d^2\\psi(x)}{dx^2} - x^2\\psi(x)$"
      ],
      "text/plain": [
       "<IPython.core.display.Math object>"
      ]
     },
     "metadata": {},
     "output_type": "display_data"
    },
    {
     "data": {
      "text/latex": [
       "$\\displaystyle \\psi(x) = \\exp\\left(-\\frac{x^2}{2}\\right)$"
      ],
      "text/plain": [
       "<IPython.core.display.Math object>"
      ]
     },
     "metadata": {},
     "output_type": "display_data"
    },
    {
     "data": {
      "text/latex": [
       "$\\displaystyle f(\\psi(x)) = - e^{- \\frac{x^{2}}{2}}$"
      ],
      "text/plain": [
       "<IPython.core.display.Math object>"
      ]
     },
     "metadata": {},
     "output_type": "display_data"
    },
    {
     "data": {
      "text/latex": [
       "$\\displaystyle \\text{Hence, }\\psi \\text{ is an eigenfunction of } f \\text{ with an eigenvalue of } -1.$"
      ],
      "text/plain": [
       "<IPython.core.display.Math object>"
      ]
     },
     "metadata": {},
     "output_type": "display_data"
    }
   ],
   "source": [
    "display(Math(f'f : \\psi(x) \\\\rightarrow \\\\frac{{d^2\\psi(x)}}{{dx^2}} - x^2\\psi(x)'))\n",
    "display(Math(f'\\psi(x) = \\exp\\left(-\\\\frac{{x^2}}{{2}}\\\\right)'))\n",
    "\n",
    "x_symbol = symbols('x', real = True)\n",
    "psi_symbol = exp(-x_symbol ** 2 / 2)\n",
    "def f(psi):\n",
    "  x = x_symbol\n",
    "  return diff(diff(psi, x), x) - psi * (x)**2\n",
    "\n",
    "display(Math(f'f(\\\\psi(x)) = {latex(f(psi_symbol))}'))\n",
    "display(Math(f'\\\\text{{Hence, }}\\psi \\\\text{{ is an eigenfunction of }} f \\\\text{{ with an eigenvalue of }} -1.'))"
   ]
  },
  {
   "cell_type": "markdown",
   "metadata": {
    "pycharm": {
     "name": "#%% md\n"
    }
   },
   "source": [
    "***\n",
    "\n",
    "# 2. \n",
    "A system is initially in the state \n",
    "$\\left|\\psi\\right.>=\\frac{\\left[\\sqrt2\\left|\\varphi_1\\right.>+\\sqrt2\\left|\\varphi_2\\right.>+\\left|\\varphi_3\\right.>\\right]}{\\sqrt5}$, where $\\left|\\varphi_n\\right.>$ are eigenstates of the system’s Hamiltonian \n",
    "such that $\\hat{H}\\left|\\ \\varphi_n\\right.>\\ =n^2E_0\\left|\\ \\varphi_n\\right.>$.\n"
   ]
  },
  {
   "cell_type": "markdown",
   "metadata": {
    "pycharm": {
     "name": "#%% md\n"
    }
   },
   "source": [
    "<div style=\"margin-left: 30px\">\n",
    "a.\n",
    "\n",
    "If the energy is measured, what values can all be obtained? (434: 5 pts, 591: 3 pts)\n",
    "\n",
    "---\n",
    "    \n",
    "<div style=\"margin-left: 30px\">\n",
    "Since the eigenvalues are obviously given by $n^2E_0$ we have:\n",
    "\n",
    "$$E(1)=E_0$$\n",
    "\n",
    "$$E(2) =4E_0$$\n",
    "\n",
    "$$E(3) = 9E_0$$"
   ]
  },
  {
   "cell_type": "markdown",
   "metadata": {
    "pycharm": {
     "name": "#%% md\n"
    }
   },
   "source": [
    "***\n",
    "<div style=\"margin-left: 30px\">\n",
    "\n",
    "b.\n",
    "\n",
    "Consider an operator $\\hat{A}$ that is defined by $\\hat{A}\\left|\\ \\varphi_n\\right.>\\ = \\ \\left(n+1\\right)a_0\\left|\\ \\varphi_n\\right.>$. \n",
    "       If A is measured, what values can all be obtained? (434: 5 pts, 591: 3 pts)"
   ]
  },
  {
   "cell_type": "markdown",
   "metadata": {
    "pycharm": {
     "name": "#%% md\n"
    }
   },
   "source": [
    "<div style=\"margin-left: 60px\">\n",
    " Since this is just a discrete scaling function, (assuming that $n$ is to be treated as a constant, not an independent variable), the eigenvalue is simply the scale factor $(n+1)a_0$, with the particular value depending on the values of $n$ and $a_0$ for the relevant system.  Hence, all possible measured values are given by the expression $(n+1)a_0$."
   ]
  },
  {
   "cell_type": "markdown",
   "metadata": {
    "pycharm": {
     "name": "#%% md\n"
    }
   },
   "source": [
    "***\n",
    "<div style=\"margin-left: 30px\">\n",
    "\n",
    "c.\n",
    "\n",
    "Suppose that a measurement of the energy yields the value $4E_0$. \n",
    "\n",
    "If we measure $A$ immediately afterwards, what value will be obtained? (434: 5 pts, 591: 3 pts)"
   ]
  },
  {
   "cell_type": "markdown",
   "metadata": {
    "pycharm": {
     "name": "#%% md\n"
    }
   },
   "source": [
    "<div style=\"margin-left: 60px\">\n",
    "If the energy value was measured to be $4E_0$ then we know $n=2$ and hence \n",
    "    \n",
    "$A = (2+1)a_0 = 3a_0.$"
   ]
  },
  {
   "cell_type": "markdown",
   "metadata": {
    "pycharm": {
     "name": "#%%\n"
    }
   },
   "source": [
    "<div style=\"margin-left: 30px\">\n",
    "d. Bonus\n",
    "\n",
    "Calculate the probabilities with which the individual energies in (a) can be obtained. \n",
    "    \n",
    "Use the relation that $P\\left(E_n\\right)=\\left|<\\varphi_n|\\psi>\\right|^2$ if the function ψ had been normalized. \n",
    "    \n",
    "(434: 5 pts bonus, 591: 3 pts bonus)"
   ]
  },
  {
   "cell_type": "markdown",
   "metadata": {},
   "source": [
    "<div style=\"margin-left: 60px\">\n",
    "\n",
    "Without normalizing:\n",
    "    \n",
    "$$ P(E_1) = P(E_2) = \\frac{2}{5} $$\n",
    "$$ P(E_3) = \\frac{1}{5} $$ \n",
    "    \n",
    "Normalizing:\n",
    "\n",
    "$$ P(E_1) = P(E_2) = \\frac{5}{3}\\cdot\\frac{2}{5} = \\frac{2}{3}$$\n",
    "$$ P(E_3) = \\frac{5}{3}\\cdot\\frac{1}{5} = \\frac{1}{3}$$ "
   ]
  },
  {
   "cell_type": "markdown",
   "metadata": {},
   "source": [
    "# 3.\n",
    "\n",
    "Using the ladder operators for the Harmonic Oscillator, compute $<x^2>$ and $<p^2>$. (434: 10 pts, 591: 6 pts)"
   ]
  },
  {
   "attachments": {
    "image-2.png": {
     "image/png": "[encoded data removed]"
    },
    "image.png": {
     "image/png": "[encoded data removed]"
    }
   },
   "cell_type": "markdown",
   "metadata": {},
   "source": [
    "From the Wikipedia article on the Quantum Harmonic Oscillator, the relevant ladder operators are:\n",
    "\n",
    "![image.png](attachment:image.png)\n",
    "\n",
    "which give these expressions for $\\hat{x}$ and $\\hat{p}$:\n",
    "![image-2.png](attachment:image-2.png)"
   ]
  },
  {
   "attachments": {},
   "cell_type": "markdown",
   "metadata": {},
   "source": [
    "By definition, the expectation value of an operator, $\\hat{Q}$, is given by:  \n",
    "$$\\hat{Q} = \\int_{-\\infty}^{\\infty} \\Psi^*\\cdot\\hat{Q}\\cdot\\Psi \\text{ } dx =  \n",
    "\\left \\langle\\Psi^* \\left|\\hat{Q}\\right| \\Psi\\right \\rangle$$\n",
    "\n",
    "Using the formulas for $\\hat{x}$ and $\\hat{p}$ in terms of the ladder operators we get:\n",
    "\n",
    "$$\\hat{x}^2 = \n",
    "\\frac{\\hbar}{2m\\omega}\\left(a^2 + a\\cdot a^{\\dagger} + a^{\\dagger}\\cdot a + \\left(a^{\\dagger}\\right)^2\\right) \n",
    "$$\n",
    "\n",
    "$$\n",
    "\\hat{p}^2  = \n",
    "-\\frac{\\hbar m\\omega}{2}\\left(a^2 - \\left(a\\cdot a^{\\dagger} + a^{\\dagger}\\cdot a\\right) +  \\left(a^{\\dagger}\\right)^2\\right) \n",
    "$$\n",
    "\n",
    "Plugging into the expectation value formula gives:\n",
    "\n",
    "\n",
    "$$\n",
    "\\left \\langle \\hat{x}^2 \\right \\rangle = \\left \\langle\\Psi^*_n \\left|\\hat{x}^2\\right| \\Psi_n \\right \\rangle = \n",
    "\\frac{\\hbar}{2m\\omega}\\left \\langle\\Psi_n^*\\left |\\left(a^2 + a\\cdot a^{\\dagger} + a^{\\dagger}\\cdot a +  \\left(a^{\\dagger}\\right)^2\\right) \\right| \\Psi_n\\right \\rangle\n",
    "$$\n",
    "\n",
    "$$\n",
    "\\left \\langle \\hat{p}^2 \\right \\rangle = \\left\\langle\\Psi_n^* \\left|\\hat{p}^2\\right| \\Psi_n\\right \\rangle = \n",
    "-\\frac{\\hbar m\\omega}{2}\\left \\langle\\Psi_n^* \\left|\\left(a^2 - \\left(a\\cdot a^{\\dagger} + a^{\\dagger}\\cdot a\\right) +  \\left(a^{\\dagger}\\right)^2\\right) \\right| \\Psi_n\\right \\rangle\n",
    "$$\n",
    "Per Griffiths' QM text, example 2.5, $$a^2\\Psi_n = \\Psi_{n+2}$$ and $$ \\left(a^{\\dagger}\\right)^2\\Psi_n = \\Psi_{n-2}$$\n",
    "which cancel out leaving:\n",
    "\n",
    "$$\n",
    "\\left \\langle \\hat{x}^2 \\right \\rangle  = \n",
    "\\frac{\\hbar}{2m\\omega}\\left \\langle \\Psi_n^*\\left| \\left(a\\cdot a^{\\dagger} + a^{\\dagger}\\cdot a \\right) \\right| \\Psi_n\\right \\rangle\n",
    "$$\n",
    "\n",
    "$$\n",
    "\\left \\langle \\hat{p}^2 \\right \\rangle = \n",
    "-\\frac{\\hbar m\\omega}{2}\\left \\langle\\Psi_n^* \\left|\\left( - \\left(a\\cdot a^{\\dagger} + a^{\\dagger}\\cdot a\\right) \\right) \\right| \\Psi_n\\right \\rangle =$$\n",
    "$$\\frac{\\hbar m\\omega}{2}\\left \\langle\\Psi_n^* \\left|\\left(\\left(a\\cdot a^{\\dagger} + a^{\\dagger}\\cdot a\\right) \\right) \\right| \\Psi_n\\right \\rangle\n",
    "$$\n",
    "\n",
    "Now, using equation 2.66 from Griffiths' QM text  $$a\\cdot \\left (a^{\\dagger} \\right) \\Psi_n = n\\Psi_n$$ and \n",
    "$$\\left(a^{\\dagger}\\right)\\cdot a \\text{ } \\Psi_n = (n+1)\\Psi_n$$\n",
    "\n",
    "\n",
    "$$\n",
    "\\left \\langle \\hat{p}^2 \\right \\rangle = \n",
    "-\\frac{\\hbar m\\omega}{2}\\left \\langle\\Psi_n^* \\left|\\left( - (2n+1) \\right) \\right| \\Psi_n\\right \\rangle =$$\n",
    "$$\\frac{\\hbar m\\omega}{2}\\left \\langle\\Psi_n^* \\left|(2n+1) \\right| \\Psi_n\\right \\rangle = $$\n",
    "\n",
    "$$\n",
    "\\frac{\\hbar m\\omega}{2} (2n+1)\\left|\\Psi_n\\right |^2\n",
    "$$\n",
    "\n",
    "\n",
    "$$ \\left \\langle \\hat{x}^2 \\right \\rangle = \\frac{\\hbar}{2m\\omega}(2n+1)\\left|\\Psi_n\\right |^2 $$"
   ]
  },
  {
   "cell_type": "markdown",
   "metadata": {},
   "source": [
    "# 4\n",
    "Use the recursion formula to determine $\\varphi_1\\left(x\\right)$ and $\\varphi_2\\left(x\\right)\\$ for the Harmonic Oscillator.\n",
    "\n",
    "(434: 8 pts, 591: 5 pts)+(434: 8 pts bonus, 591: 5 pts bonus)\n",
    "\n",
    "Final answer from provided answers:\n",
    "\n",
    "$$\\varphi_0\\left(x\\right)=\\frac{1}{\\sqrt{\\sqrt\\pi x_0}}\\exp{\\left(-\\frac{x^2}{2x_0^2}\\right)}\\ \\mathrm{with}\\ x_0=\\ \\left(\\frac{\\hbar}{m\\omega}\\right)^\\frac{1}{2}$$"
   ]
  },
  {
   "attachments": {},
   "cell_type": "markdown",
   "metadata": {
    "pycharm": {
     "name": "#%% md\n"
    }
   },
   "source": [
    "Following Griffiths' derivation from section 2.3.1, p. 43-44:\n",
    "\n",
    "Using the definition of $a^{\\dagger}$ given in problem 3 above, but expressing $p$ in terms of $x$, and recognizing that $a^{\\dagger}\\varphi_0 = 0$, we get that:\n",
    "\n",
    "$$\n",
    "\\frac{1}{\\sqrt{2\\hbar m \\omega}}\\left(\\hbar\\frac{d}{dx}+m\\omega x\\right)\\varphi_0 = 0\n",
    "$$\n",
    "\n",
    "which becomes:\n",
    "$$\n",
    "\\frac{d\\varphi_0}{dx}=-\\frac{m\\omega}{\\hbar}x\\varphi_0\n",
    "$$\n",
    "\n",
    "Applying separation of variables, we get that\n",
    "$$\n",
    "\\varphi_0 =A\\exp\\left(-\\frac{m\\omega}{2\\hbar}x^2\\right)\n",
    "$$\n",
    "\n",
    "Normalizing, we get that \n",
    "$$\n",
    "A=\\left(\\frac{m\\omega}{\\pi\\hbar}\\right)^{\\frac{1}{4}}\n",
    "$$\n",
    "\n",
    "So, \n",
    "$$\n",
    "\\varphi_0 =\\left(\\frac{m\\omega}{\\pi\\hbar}\\right)^{\\frac{1}{4}} \\exp\\left(-\\frac{m\\omega}{2\\hbar}x^2\\right)\n",
    "$$\n",
    "\n",
    "Per the definition of the ladder operators, the recursion formula is:\n",
    "\n",
    "$$\n",
    "\\varphi_n = A_n a^n \\varphi_0 = \n",
    "A_n a^n \\left(\\frac{m\\omega}{\\pi\\hbar}\\right)^{\\frac{1}{4}} \\exp\\left(-\\frac{m\\omega}{2\\hbar}x^2\\right) \n",
    "$$\n",
    "(Remember that $a$ is an *operator*, not a variable, so $a^n$ really means $a$ **applied to** $\\varphi_0$ $n$ times. Since we're dealing with linear operators on a vector space, all operator  application can technically be thought of as matrix multiplication and so $a^n$ *would* correspond to matrix exponentiation, but since this is a Hilbert space, it's infinite dimensional and so it's not convenient to try to explicitly use matrices.  Hence, it's important to be mindful of the meaning of the notation and not confuse operators with variables.)\n",
    "\n",
    "So, \n",
    "$$\n",
    "\\varphi_1 = A_1 \\frac{1}{\\sqrt{2\\hbar m \\omega}}\\left(-\\hbar\\frac{d}{dx}+m\\omega x\\right)\\left(\\frac{m\\omega}{\\pi\\hbar}\\right)^{\\frac{1}{4}} \\exp\\left(-\\frac{m\\omega}{2\\hbar}x^2\\right) = A_1 \\sqrt{\\frac{2m\\omega}{\\hbar}}\\left(\\frac{m\\omega}{\\pi\\hbar}\\right)^{\\frac{1}{4}} x \\exp\\left(-\\frac{m\\omega}{2\\hbar}x^2\\right) \n",
    "$$\n",
    "\n",
    "Normalizing, we get that $$A_1 = 1 \\implies \n",
    "\\varphi_1 = \\left(\\frac{m\\omega}{\\pi\\hbar}\\right)^{\\frac{1}{4}} \\sqrt{\\frac{2m\\omega}{\\hbar}} x \\exp\\left(-\\frac{m\\omega}{2\\hbar}x^2\\right) $$\n",
    "\n",
    "From Griffiths', p. 46:\n",
    "$$\n",
    "\\varphi_2 = \\frac{1}{\\sqrt{2}}a\\varphi_1 = \n",
    "\\frac{1}{\\sqrt{2}}\\left(-\\hbar\\frac{d}{dx}+m\\omega x\\right) \\left(\\frac{m\\omega}{\\pi\\hbar}\\right)^{\\frac{1}{4}} \\sqrt{\\frac{2m\\omega}{\\hbar}} x \\exp\\left(-\\frac{m\\omega}{2\\hbar}x^2\\right)\n",
    "$$"
   ]
  },
  {
   "cell_type": "code",
   "execution_count": null,
   "outputs": [],
   "source": [],
   "metadata": {
    "collapsed": false,
    "pycharm": {
     "name": "#%%\n"
    }
   }
  }
 ],
 "metadata": {
  "kernelspec": {
   "display_name": "Python 3 (ipykernel)",
   "language": "python",
   "name": "python3"
  },
  "language_info": {
   "codemirror_mode": {
    "name": "ipython",
    "version": 3
   },
   "file_extension": ".py",
   "mimetype": "text/x-python",
   "name": "python",
   "nbconvert_exporter": "python",
   "pygments_lexer": "ipython3",
   "version": "3.11.0"
  }
 },
 "nbformat": 4,
 "nbformat_minor": 1
}