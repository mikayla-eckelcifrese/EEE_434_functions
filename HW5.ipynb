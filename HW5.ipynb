{
 "cells": [
  {
   "cell_type": "code",
   "execution_count": 5,
   "metadata": {
    "pycharm": {
     "name": "#%%\n"
    }
   },
   "outputs": [],
   "source": [
    "%matplotlib widget"
   ]
  },
  {
   "cell_type": "code",
   "execution_count": 38,
   "metadata": {
    "pycharm": {
     "name": "#%%\n"
    }
   },
   "outputs": [],
   "source": [
    "from numpy import linspace, exp, e, pi, sqrt, sinh, imag, sin, vectorize, where, delete, absolute\n",
    "from pandas import DataFrame, concat\n",
    "\n",
    "from sympy import symbols, integrate, solve, latex, oo, simplify, diff, Q, assuming, Eq\n",
    "import sympy as sp\n",
    "from sympy.physics.quantum import Bra, Ket\n",
    "from IPython.display import display, Math\n",
    "\n",
    "from plotly.express import scatter, line\n",
    "\n",
    "from quantities import UnitQuantity, UnitConstant, m, nm, Hz, MHz, s, kg, eV, J, C, K\n",
    "from quantities.constants import m_e, hbar, h, Boltzmann_constant as k_b, elementary_charge as q\n",
    "\n",
    "c = UnitConstant('speed_of_light', 299792458*m/s, 'c')\n",
    "\n",
    "def Units(x, units):\n",
    "  x.units = units\n",
    "  return x\n",
    "\n",
    "j = 1j "
   ]
  },
  {
   "cell_type": "markdown",
   "metadata": {
    "cell_style": "center",
    "pycharm": {
     "name": "#%% md\n"
    }
   },
   "source": [
    "1. Show that $e^{-\\frac{x^2}{2}}$ is an eigenfunction of the operator $\\frac{d^2}{dx^2}-x^2$, and find its eigenvalue.\n",
    "(434: 7 pts, 591: 5 pts)\n"
   ]
  },
  {
   "cell_type": "code",
   "execution_count": 13,
   "metadata": {
    "pycharm": {
     "name": "#%%\n"
    }
   },
   "outputs": [
    {
     "data": {
      "text/latex": [
       "$\\displaystyle f : \\psi(x) \\rightarrow \\frac{d^2\\psi(x)}{dx^2} - x^2\\psi(x)$"
      ],
      "text/plain": [
       "<IPython.core.display.Math object>"
      ]
     },
     "metadata": {},
     "output_type": "display_data"
    },
    {
     "data": {
      "text/latex": [
       "$\\displaystyle \\psi(x) = \\exp\\left(-\\frac{x^2}{2}\\right)$"
      ],
      "text/plain": [
       "<IPython.core.display.Math object>"
      ]
     },
     "metadata": {},
     "output_type": "display_data"
    },
    {
     "data": {
      "text/latex": [
       "$\\displaystyle f(\\psi(x)) = - e^{- \\frac{x^{2}}{2}}$"
      ],
      "text/plain": [
       "<IPython.core.display.Math object>"
      ]
     },
     "metadata": {},
     "output_type": "display_data"
    },
    {
     "data": {
      "text/latex": [
       "$\\displaystyle \\text{Hence, }\\psi \\text{ is an eigenfunction of } f \\text{ with an eigenvalue of } -1.$"
      ],
      "text/plain": [
       "<IPython.core.display.Math object>"
      ]
     },
     "metadata": {},
     "output_type": "display_data"
    }
   ],
   "source": [
    "display(Math(f'f : \\psi(x) \\\\rightarrow \\\\frac{{d^2\\psi(x)}}{{dx^2}} - x^2\\psi(x)'))\n",
    "display(Math(f'\\psi(x) = \\exp\\left(-\\\\frac{{x^2}}{{2}}\\\\right)'))\n",
    "\n",
    "x_symbol = symbols('x', real = True)\n",
    "psi_symbol = sy.exp(-x_symbol ** 2 / 2)\n",
    "def f(psi):\n",
    "  x = x_symbol\n",
    "  return diff(diff(psi, x), x) - psi * (x)**2\n",
    "\n",
    "display(Math(f'f(\\\\psi(x)) = {latex(f(psi_symbol))}'))\n",
    "display(Math(f'\\\\text{{Hence, }}\\psi \\\\text{{ is an eigenfunction of }} f \\\\text{{ with an eigenvalue of }} -1.'))"
   ]
  },
  {
   "cell_type": "markdown",
   "metadata": {
    "pycharm": {
     "name": "#%% md\n"
    }
   },
   "source": [
    "***\n",
    "\n",
    "# 2. \n",
    "A system is initially in the state \n",
    "$\\left|\\psi\\right.>=\\frac{\\left[\\sqrt2\\left|\\varphi_1\\right.>+\\sqrt2\\left|\\varphi_2\\right.>+\\left|\\varphi_3\\right.>\\right]}{\\sqrt5}$, where $\\left|\\varphi_n\\right.>$ are eigenstates of the system’s Hamiltonian \n",
    "such that $\\hat{H}\\left|\\ \\varphi_n\\right.>\\ =n^2E_0\\left|\\ \\varphi_n\\right.>$.\n"
   ]
  },
  {
   "cell_type": "markdown",
   "metadata": {
    "pycharm": {
     "name": "#%% md\n"
    }
   },
   "source": [
    "<div style=\"margin-left: 30px\">\n",
    "a.\n",
    "\n",
    "If the energy is measured, what values can all be obtained? (434: 5 pts, 591: 3 pts)\n",
    "\n",
    "---\n",
    "    \n",
    "<div style=\"margin-left: 30px\">\n",
    "Since the eigenvalues are obviously given by $n^2E_0$ we have:\n",
    "\n",
    "$$E(1)=E_0$$\n",
    "\n",
    "$$E(2) =4E_0$$\n",
    "\n",
    "$$E(3) = 9E_0$$"
   ]
  },
  {
   "cell_type": "markdown",
   "metadata": {
    "pycharm": {
     "name": "#%% md\n"
    }
   },
   "source": [
    "***\n",
    "<div style=\"margin-left: 30px\">\n",
    "\n",
    "b.\n",
    "\n",
    "Consider an operator $\\hat{A}$ that is defined by $\\hat{A}\\left|\\ \\varphi_n\\right.>\\ = \\ \\left(n+1\\right)a_0\\left|\\ \\varphi_n\\right.>$. \n",
    "       If A is measured, what values can all be obtained? (434: 5 pts, 591: 3 pts)"
   ]
  },
  {
   "cell_type": "markdown",
   "metadata": {
    "pycharm": {
     "name": "#%% md\n"
    }
   },
   "source": [
    "<div style=\"margin-left: 60px\">\n",
    " Since this is just a discrete scaling function, (assuming that $n$ is to be treated as a constant, not an independent variable), the eigenvalue is simply the scale factor $(n+1)a_0$, with the particular value depending on the values of $n$ and $a_0$ for the relevant system.  Hence, all possible measured values are given by the expression $(n+1)a_0$."
   ]
  },
  {
   "cell_type": "markdown",
   "metadata": {
    "pycharm": {
     "name": "#%% md\n"
    }
   },
   "source": [
    "***\n",
    "<div style=\"margin-left: 30px\">\n",
    "\n",
    "c.\n",
    "\n",
    "Suppose that a measurement of the energy yields the value $4E_0$. \n",
    "\n",
    "If we measure $A$ immediately afterwards, what value will be obtained? (434: 5 pts, 591: 3 pts)"
   ]
  },
  {
   "cell_type": "markdown",
   "metadata": {
    "pycharm": {
     "name": "#%% md\n"
    }
   },
   "source": [
    "<div style=\"margin-left: 60px\">\n",
    "If the energy value was measured to be $4E_0$ then we know $n=2$ and hence \n",
    "    \n",
    "$A = (2+1)a_0 = 3a_0.$"
   ]
  },
  {
   "cell_type": "markdown",
   "source": [
    "<div style=\"margin-left: 30px\">\n",
    "d. Bonus\n",
    "\n",
    "Calculate the probabilities with which the individual energies in (a) can be obtained. \n",
    "    \n",
    "Use the relation that $P\\left(E_n\\right)=\\left|<\\varphi_n|\\psi>\\right|^2$ if the function ψ had been normalized. \n",
    "    \n",
    "(434: 5 pts bonus, 591: 3 pts bonus)"
   ],
   "metadata": {
    "collapsed": false,
    "pycharm": {
     "name": "#%% md\n"
    }
   }
  },
  {
   "cell_type": "markdown",
   "metadata": {},
   "source": [
    "<div style=\"margin-left: 60px\">\n",
    "\n",
    "Without normalizing:\n",
    "    \n",
    "$$ P(E_1) = P(E_2) = \\frac{2}{5} $$\n",
    "$$ P(E_3) = \\frac{1}{5} $$ \n",
    "    \n",
    "Normalizing:\n",
    "\n",
    "$$ P(E_1) = P(E_2) = \\frac{5}{3}\\cdot\\frac{2}{5} = \\frac{2}{3}$$\n",
    "$$ P(E_3) = \\frac{5}{3}\\cdot\\frac{1}{5} = \\frac{1}{3}$$ "
   ]
  },
  {
   "cell_type": "markdown",
   "metadata": {},
   "source": [
    "# 3.\n",
    "\n",
    "Using the ladder operators for the Harmonic Oscillator, compute $<x^2>$ and $<p^2>$. (434: 10 pts, 591: 6 pts)\n",
    "\n",
    "\n",
    "Final answer for $<x^2>$ from provided answers:\n",
    "$$<x^2>_{nk}=\\frac{ℏ}{2mω}\\left\\{\\left(2n+1\\right)δ_{nk}+\\sqrt{(n+1)(n+2)}δ_{n+2,k}+ \\sqrt{n(n-1)}δ_{n-2,k}\\right\\}$$"
   ]
  },
  {
   "cell_type": "markdown",
   "source": [
    "From the Wikipedia article on the Quantum Harmonic Oscillator, the relevant ladder operators are:\n",
    "\n",
    "![image.png](attachment:image.png)\n",
    "\n",
    "which give these expressions for $\\hat{x}$ and $\\hat{p}$:\n",
    "![image-2.png](attachment:image-2.png)"
   ],
   "metadata": {
    "collapsed": false,
    "pycharm": {
     "name": "#%% md\n"
    }
   }
  },
  {
   "cell_type": "markdown",
   "source": [
    "By definition, the expectation value of an operator, $\\hat{Q}$, is given by:  \n",
    "$$\\hat{Q} = \\int_{-\\infty}^{\\infty} \\Psi^*\\cdot\\hat{Q}\\cdot\\Psi \\text{ } dx =  \\langle\\Psi^* |\\hat{Q}| \\Psi\\rangle$$\n",
    "\n",
    "Using the formulas for $\\hat{x}$ and $\\hat{p}$ in terms of the ladder operators we get:\n",
    "\n",
    "$$\\hat{x}^2 = \n",
    "\\frac{\\hbar}{2m\\omega}\\left(a^2 + a\\cdot a^{\\dagger} + a^{\\dagger}\\cdot a + (a^{\\dagger})^2\\right) \n",
    "$$\n",
    "\n",
    "$$\n",
    "\\hat{p}^2  = \n",
    "-\\frac{\\hbar m\\omega}{2}\\left(a^2 - (a\\cdot a^{\\dagger} + a^{\\dagger}\\cdot a) + (a^{\\dagger})^2\\right) \n",
    "$$\n",
    "\n",
    "Plugging into the expectation value formula and using equation 2.66 from Griffiths' QM text:\n",
    "\n",
    "![image.png](attachment:image.png)\n",
    "\n",
    "gives:\n",
    "\n",
    "$$\n",
    "\\langle \\hat{x}^2 \\rangle = \\langle\\Psi^* |\\hat{x}^2| \\Psi\\rangle = \n",
    "\\frac{\\hbar}{2m\\omega}\\langle\\Psi^* |\\left(a^2 + a\\cdot a^{\\dagger} + a^{\\dagger}\\cdot a + (a^{\\dagger})^2\\right) | \\Psi\\rangle\n",
    "$$\n",
    "\n",
    "$$\n",
    "\\langle \\hat{p}^2 \\rangle = \\langle\\Psi^* |\\hat{x}^2| \\Psi\\rangle = \n",
    "-\\frac{\\hbar m\\omega}{2}\\langle\\Psi^* |\\left(a^2 + a\\cdot a^{\\dagger} + a^{\\dagger}\\cdot a + (a^{\\dagger})^2\\right) | \\Psi\\rangle\n",
    "$$"
   ],
   "metadata": {
    "collapsed": false,
    "pycharm": {
     "name": "#%% md\n"
    }
   }
  },
  {
   "cell_type": "markdown",
   "metadata": {},
   "source": [
    "$(a\\hat{x} + ib\\hat{p})(a\\hat{x} - ib\\hat{p}) = a^2\\hat{x}^2 - aib\\hat{x}\\hat{p}+aib\\hat{p}\\hat{x}+b^2\\hat{p}^2 =$\n",
    "\n",
    "$a^2\\hat{x}^2 - aib(\\hat{x}\\hat{p}-\\hat{p}\\hat{x}) + b^2\\hat{p}^2 = a^2\\hat{x}^2 + aib(\\hat{p}\\hat{x}-\\hat{x}\\hat{p}) + b^2\\hat{p}^2 $"
   ]
  },
  {
   "cell_type": "markdown",
   "metadata": {},
   "source": [
    "# 4\n",
    "Use the recursion formula to determine $\\varphi_1\\left(x\\right)$ and $\\varphi_2\\left(x\\right)\\$ for the Harmonic Oscillator.\n",
    "\n",
    "(434: 8 pts, 591: 5 pts)+(434: 8 pts bonus, 591: 5 pts bonus)\n",
    "\n",
    "Final answer from provided answers:\n",
    "\n",
    "$$\\varphi_0\\left(x\\right)=\\frac{1}{\\sqrt{\\sqrt\\pi x_0}}\\exp{\\left(-\\frac{x^2}{2x_0^2}\\right)}\\ \\mathrm{with}\\ x_0=\\ \\left(\\frac{\\hbar}{m\\omega}\\right)^\\frac{1}{2}$$"
   ]
  },
  {
   "cell_type": "code",
   "execution_count": null,
   "metadata": {},
   "outputs": [],
   "source": []
  }
 ],
 "metadata": {
  "kernelspec": {
   "display_name": "Python 3 (ipykernel)",
   "language": "python",
   "name": "python3"
  },
  "language_info": {
   "codemirror_mode": {
    "name": "ipython",
    "version": 3
   },
   "file_extension": ".py",
   "mimetype": "text/x-python",
   "name": "python",
   "nbconvert_exporter": "python",
   "pygments_lexer": "ipython3",
   "version": "3.11.0"
  }
 },
 "nbformat": 4,
 "nbformat_minor": 1
}