{
 "cells": [
  {
   "cell_type": "code",
   "execution_count": 11,
   "metadata": {
    "pycharm": {
     "name": "#%%\n"
    }
   },
   "outputs": [],
   "source": [
    "%matplotlib widget"
   ]
  },
  {
   "cell_type": "code",
   "execution_count": 12,
   "metadata": {
    "pycharm": {
     "name": "#%%\n"
    }
   },
   "outputs": [],
   "source": [
    "from numpy import linspace, exp, e, pi, sqrt, sinh, imag, sin, vectorize, where, delete, absolute\n",
    "from pandas import DataFrame, concat\n",
    "\n",
    "from sympy import symbols, integrate, solve, latex, oo, simplify, diff\n",
    "import sympy as sy\n",
    "from IPython.display import display, Math\n",
    "\n",
    "from plotly.express import scatter, line\n",
    "\n",
    "from quantities import UnitQuantity, UnitConstant, m, nm, Hz, MHz, s, kg, eV, J, C, K\n",
    "from quantities.constants import m_e, hbar, h, Boltzmann_constant as k_b, elementary_charge as q\n",
    "\n",
    "c = UnitConstant('speed_of_light', 299792458*m/s, 'c')\n",
    "\n",
    "def Units(x, units):\n",
    "  x.units = units\n",
    "  return x"
   ]
  },
  {
   "cell_type": "markdown",
   "metadata": {
    "cell_style": "center",
    "pycharm": {
     "name": "#%% md\n"
    }
   },
   "source": [
    "1. Show that $e^{-\\frac{x^2}{2}}$ is an eigenfunction of the operator $\\frac{d^2}{dx^2}-x^2$, and find its eigenvalue.\n",
    "(434: 7 pts, 591: 5 pts)\n"
   ]
  },
  {
   "cell_type": "code",
   "execution_count": 13,
   "metadata": {
    "pycharm": {
     "name": "#%%\n"
    }
   },
   "outputs": [
    {
     "data": {
      "text/latex": [
       "$\\displaystyle f : \\psi(x) \\rightarrow \\frac{d^2\\psi(x)}{dx^2} - x^2\\psi(x)$"
      ],
      "text/plain": [
       "<IPython.core.display.Math object>"
      ]
     },
     "metadata": {},
     "output_type": "display_data"
    },
    {
     "data": {
      "text/latex": [
       "$\\displaystyle \\psi(x) = \\exp\\left(-\\frac{x^2}{2}\\right)$"
      ],
      "text/plain": [
       "<IPython.core.display.Math object>"
      ]
     },
     "metadata": {},
     "output_type": "display_data"
    },
    {
     "data": {
      "text/latex": [
       "$\\displaystyle f(\\psi(x)) = - e^{- \\frac{x^{2}}{2}}$"
      ],
      "text/plain": [
       "<IPython.core.display.Math object>"
      ]
     },
     "metadata": {},
     "output_type": "display_data"
    },
    {
     "data": {
      "text/latex": [
       "$\\displaystyle \\text{Hence, }\\psi \\text{ is an eigenfunction of } f \\text{ with an eigenvalue of } -1.$"
      ],
      "text/plain": [
       "<IPython.core.display.Math object>"
      ]
     },
     "metadata": {},
     "output_type": "display_data"
    }
   ],
   "source": [
    "display(Math(f'f : \\psi(x) \\\\rightarrow \\\\frac{{d^2\\psi(x)}}{{dx^2}} - x^2\\psi(x)'))\n",
    "display(Math(f'\\psi(x) = \\exp\\left(-\\\\frac{{x^2}}{{2}}\\\\right)'))\n",
    "\n",
    "x_symbol = symbols('x', real = True)\n",
    "psi_symbol = sy.exp(-x_symbol ** 2 / 2)\n",
    "def f(psi):\n",
    "  x = x_symbol\n",
    "  return diff(diff(psi, x), x) - psi * (x)**2\n",
    "\n",
    "display(Math(f'f(\\\\psi(x)) = {latex(f(psi_symbol))}'))\n",
    "display(Math(f'\\\\text{{Hence, }}\\psi \\\\text{{ is an eigenfunction of }} f \\\\text{{ with an eigenvalue of }} -1.'))"
   ]
  },
  {
   "cell_type": "markdown",
   "source": [
    "***\n",
    "\n",
    "2. \t\n",
    "A system is initially in the state \n",
    "$\\left|\\psi\\right.>=\\frac{\\left[\\sqrt2\\left|\\varphi_1\\right.>+\\sqrt2\\left|\\varphi_2\\right.>+\\left|\\varphi_3\\right.>\\right]}{\\sqrt5}$, where $\\left|\\varphi_n\\right.>$ are eigenstates of the system’s Hamiltonian \n",
    "such that $\\hat{H}\\left|\\ \\varphi_n\\right.>\\ =n^2E_0\\left|\\ \\varphi_n\\right.>$.\n",
    "\n",
    "\n",
    "<div style=\"margin-left: 30px\">\n",
    "a.\n",
    "\n",
    "If the energy is measured, what values can all be obtained? (434: 5 pts, 591: 3 pts)\n",
    "\n",
    "<div style>\n",
    "\n",
    "---    \n",
    "Since the eigenvalues are obviously given by $n^2E_0$ we have:\n",
    "\n",
    "$$E(1)=E_0$$\n",
    "\n",
    "$$E(2) =4E_0$$\n",
    "\n",
    "$$E(3) = 9E_0$$"
   ],
   "metadata": {
    "collapsed": false,
    "pycharm": {
     "name": "#%% md\n"
    }
   }
  },
  {
   "cell_type": "markdown",
   "source": [
    "---\n",
    "b.\n",
    "\tConsider an operator $\\hat{A}$ that is defined by $\\hat{A}\\left|\\ \\varphi_n\\right.>\\ =\\left(n+1\\right)a_0\\left|\\ \\varphi_n\\right.>$. If A is measured, what values can all be obtained? (434: 5 pts, 591: 3 pts)"
   ],
   "metadata": {
    "collapsed": false,
    "pycharm": {
     "name": "#%% md\n"
    }
   }
  },
  {
   "cell_type": "markdown",
   "source": [
    "<div style=\"margin-left: 30px\">\n",
    "Since this is just a discrete scaling function, (assuming that $n$ is to be treated as a constant, not an independent variable), the eigenvalue is simply the scale factor $(n+1)a_0$, with the particular value depending on the values of $n$ and $a_0$ for the relevant system.  Hence, all possible measured values are given by the expression $(n+1)a_0$."
   ],
   "metadata": {
    "collapsed": false,
    "pycharm": {
     "name": "#%% md\n"
    }
   }
  },
  {
   "cell_type": "markdown",
   "source": [
    "***\n",
    "c.\n",
    "Suppose that a measurement of the energy yields the value $4E_0$. \n",
    "\n",
    "   If we measure A immediately afterwards, what value will be obtained? (434: 5 pts, 591: 3 pts)"
   ],
   "metadata": {
    "collapsed": false,
    "pycharm": {
     "name": "#%% md\n"
    }
   }
  },
  {
   "cell_type": "code",
   "execution_count": null,
   "outputs": [],
   "source": [],
   "metadata": {
    "collapsed": false,
    "pycharm": {
     "name": "#%%\n"
    }
   }
  },
  {
   "cell_type": "markdown",
   "metadata": {},
   "source": [
    "***\n",
    "c.\n",
    "Suppose that a measurement of the energy yields the value $4E_0$. \n",
    "\n",
    "   If we measure A immediately afterwards, what value will be obtained? (434: 5 pts, 591: 3 pts)"
   ]
  },
  {
   "cell_type": "code",
   "execution_count": null,
   "metadata": {},
   "outputs": [],
   "source": []
  },
  {
   "cell_type": "code",
   "execution_count": null,
   "metadata": {},
   "outputs": [],
   "source": []
  }
 ],
 "metadata": {
  "kernelspec": {
   "display_name": "Python 3 (ipykernel)",
   "language": "python",
   "name": "python3"
  },
  "language_info": {
   "codemirror_mode": {
    "name": "ipython",
    "version": 3
   },
   "file_extension": ".py",
   "mimetype": "text/x-python",
   "name": "python",
   "nbconvert_exporter": "python",
   "pygments_lexer": "ipython3",
   "version": "3.11.0"
  }
 },
 "nbformat": 4,
 "nbformat_minor": 1
}