{
 "cells": [
  {
   "cell_type": "code",
   "execution_count": 1,
   "metadata": {
    "collapsed": true,
    "pycharm": {
     "name": "#%%\n"
    }
   },
   "outputs": [],
   "source": [
    "import quantities as units\n",
    "from quantities import UnitQuantity, UnitConstant, m, nm, Hz, MHz, s, kg, eV, J, C, K\n",
    "from quantities.constants import m_e, hbar, h, Boltzmann_constant as k_b\n",
    "from sympy import symbols, integrate, solve, latex, oo, simplify\n",
    "import sympy as sy\n",
    "from IPython.display import display, Math\n",
    "from numpy import linspace, exp, e, pi, sqrt, sinh, imag, sin, vectorize, where, delete, absolute\n",
    "import numpy as np\n",
    "from plotly.express import scatter\n",
    "from pandas import DataFrame, concat\n",
    "\n",
    "def Units(x, units):\n",
    "  x.units = units\n",
    "  return x"
   ]
  },
  {
   "cell_type": "code",
   "execution_count": 2,
   "outputs": [
    {
     "data": {
      "text/plain": "UnitConstant('Boltzmann_constant', 1.3806504e-23 * J/K, 'k')"
     },
     "execution_count": 2,
     "metadata": {},
     "output_type": "execute_result"
    }
   ],
   "source": [],
   "metadata": {
    "collapsed": false,
    "pycharm": {
     "name": "#%%\n"
    }
   }
  },
  {
   "cell_type": "code",
   "execution_count": null,
   "outputs": [],
   "source": [],
   "metadata": {
    "collapsed": false,
    "pycharm": {
     "name": "#%%\n"
    }
   }
  }
 ],
 "metadata": {
  "kernelspec": {
   "display_name": "Python 3",
   "language": "python",
   "name": "python3"
  },
  "language_info": {
   "codemirror_mode": {
    "name": "ipython",
    "version": 2
   },
   "file_extension": ".py",
   "mimetype": "text/x-python",
   "name": "python",
   "nbconvert_exporter": "python",
   "pygments_lexer": "ipython2",
   "version": "2.7.6"
  }
 },
 "nbformat": 4,
 "nbformat_minor": 0
}