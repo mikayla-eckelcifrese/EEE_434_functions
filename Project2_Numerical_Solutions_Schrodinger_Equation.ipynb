{
 "cells": [
  {
   "cell_type": "code",
   "execution_count": 4,
   "outputs": [],
   "source": [
    "%matplotlib widget"
   ],
   "metadata": {
    "collapsed": false,
    "pycharm": {
     "name": "#%%\n"
    }
   }
  },
  {
   "cell_type": "code",
   "execution_count": 82,
   "outputs": [],
   "source": [
    "import numpy as np\n",
    "import quantities as units\n",
    "from quantities import J, eV, hartree\n",
    "from plotly.express import scatter, line\n",
    "from pandas import DataFrame, concat\n",
    "from IPython.display import display, Math\n",
    "from sympy import latex"
   ],
   "metadata": {
    "collapsed": false,
    "pycharm": {
     "name": "#%%\n"
    }
   }
  },
  {
   "cell_type": "markdown",
   "source": [
    "# Task 1"
   ],
   "metadata": {
    "collapsed": false,
    "pycharm": {
     "name": "#%% md\n"
    }
   }
  },
  {
   "cell_type": "markdown",
   "source": [
    "To get started with the numeric simulation based on the Numerov method, you should take a look at this excellent website: <https://liu-group.github.io/interactive-Numerov-PIB/>\n",
    "\n",
    "The site provides you with the Numerov code to simulate the particle in an infinite well. We know that there is an analytical solution for the infinite well which shows that the energies are proportional to n^2 and that the wave functions are sin(nx/a) functions, which have nodes at the barrier at (+-a/2).\n",
    "\n",
    "The first code snippet allows you to simulate the wave function starting the finite difference method either from the left or from the right boundary. If the numeric method is working, we do not expect any difference between the two solutions. The error should be so small that it is not noticeable on a plot. However, the number of points and the distance between the points does matter. To check the influence of the number of points, perform the following simulations and take a screengrab or export each plot for your report and answer the questions associated with the simulations:\n",
    "\n",
    "1. Start the simulation with the default number of points (n = 10). Do the two solutions match on the plot? (10 pts)\n",
    "2. Reduce the number of points to n < 10. Do the solutions still match? (10 pts)\n",
    "3. Increase the number of points to n > 10. Do you notice any difference in matching from the simulation in (1)? (10 pts)\n",
    "4. Perform a simulation for n = 50. Why is the plot being cut-off vertically? Should this be the case? (Remember, that we are plotting the wave function and the wave function square has a physical meaning.) (10 pts)"
   ],
   "metadata": {
    "collapsed": false,
    "pycharm": {
     "name": "#%% md\n"
    }
   }
  },
  {
   "cell_type": "code",
   "execution_count": null,
   "outputs": [],
   "source": [],
   "metadata": {
    "collapsed": false,
    "pycharm": {
     "name": "#%%\n"
    }
   }
  }
 ],
 "metadata": {
  "kernelspec": {
   "display_name": "Python 3",
   "language": "python",
   "name": "python3"
  },
  "language_info": {
   "codemirror_mode": {
    "name": "ipython",
    "version": 2
   },
   "file_extension": ".py",
   "mimetype": "text/x-python",
   "name": "python",
   "nbconvert_exporter": "python",
   "pygments_lexer": "ipython2",
   "version": "2.7.6"
  }
 },
 "nbformat": 4,
 "nbformat_minor": 0
}