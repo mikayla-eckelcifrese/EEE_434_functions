{
 "cells": [
  {
   "cell_type": "code",
   "execution_count": 1,
   "metadata": {
    "pycharm": {
     "name": "#%%\n"
    }
   },
   "outputs": [],
   "source": [
    "import numpy as np\n",
    "from numpy import pi\n",
    "from sympy import symbols, integrate, solve, latex, simplify, exp, I\n",
    "from IPython.display import display, Math\n",
    "\n",
    "\n",
    "h = 4.136 * 10**(-15) # in eV*s\n",
    "h_bar = h/(2*pi) # in eV/Hz\n",
    "m_e = 9.109 * 10**(-31) # in kg"
   ]
  },
  {
   "cell_type": "markdown",
   "metadata": {
    "pycharm": {
     "name": "#%% md\n"
    }
   },
   "source": [
    "# 1.\n",
    "Assume that $\\varphi_n \\left(x \\right)$ are the eigenfunctions in an infinite square well $( \\rightarrow\\infty \\text{ for } x<0 \\text{ and } x>a)$. Calculate the overlap integrals\n",
    "$\\int_{0}^{a}{{\\varphi_n}^\\ast\\left(x\\right)\\varphi_m\\left(x\\right)dx.}$\n",
    "\n",
    "(Hint: The eigenfunctions to different eigenvalues are supposed to be orthogonal). (434: 6 pts, 591: 4 pts)\n"
   ]
  },
  {
   "cell_type": "markdown",
   "metadata": {
    "pycharm": {
     "name": "#%% md\n"
    }
   },
   "source": [
    "In quantum mechanics, eigenfunctions (AKA eigenstates) represent states corresponding to physically measurable values, (where the measured values are the eigenvalues).  That is, they each correspond to a single solution to the Schrodinger equation, the superposition of which gives the wavefunction.  But since we never observe an individual particle to be in a superposition of states, only ever in a single state at once (although measuring many particles with the same wavefunction reproduces the superposition), it's necesarry that eigenstates with different eigenvalues be mutually exclusive, which requires they be mutually orthogonal.  Hence, there can be no nonzero overlap between eigenstates with different eigenvalues.  For eigenstates with the same eigenvalue, the overlap will of course be 1 or 100%."
   ]
  },
  {
   "cell_type": "markdown",
   "metadata": {
    "pycharm": {
     "name": "#%% md\n"
    }
   },
   "source": [
    "# 2.\n",
    "For an infinite potential well of width $15$ nm, compute the energies associated with the transitions between the five lowest levels. Give the answers in eV. (434: 10 pts, 591: 5 pts)"
   ]
  },
  {
   "cell_type": "markdown",
   "metadata": {
    "pycharm": {
     "name": "#%% md\n"
    }
   },
   "source": [
    "For a particle trapped in an infinite square well, the energy level is quantized due to the boundary conditions applies to the Schrodinger equation.  The energy levels are given by the equation:\n",
    "$E_n = \\frac{\\hbar^2 n^2 \\pi^2}{2mw^2}$"
   ]
  },
  {
   "cell_type": "code",
   "execution_count": 3,
   "metadata": {
    "pycharm": {
     "name": "#%%\n"
    }
   },
   "outputs": [
    {
     "data": {
      "text/latex": [
       "$\\displaystyle \\Delta E_n(5-4) = 0.015\\text{ eV} = 15.043 \\text{ meV}$"
      ],
      "text/plain": [
       "<IPython.core.display.Math object>"
      ]
     },
     "metadata": {},
     "output_type": "display_data"
    },
    {
     "data": {
      "text/latex": [
       "$\\displaystyle \\Delta E_n(4-3) = 0.012\\text{ eV} = 11.7 \\text{ meV}$"
      ],
      "text/plain": [
       "<IPython.core.display.Math object>"
      ]
     },
     "metadata": {},
     "output_type": "display_data"
    },
    {
     "data": {
      "text/latex": [
       "$\\displaystyle \\Delta E_n(3-2) = 0.008\\text{ eV} = 8.357 \\text{ meV}$"
      ],
      "text/plain": [
       "<IPython.core.display.Math object>"
      ]
     },
     "metadata": {},
     "output_type": "display_data"
    },
    {
     "data": {
      "text/latex": [
       "$\\displaystyle \\Delta E_n(2-1) = 0.005\\text{ eV} = 5.014 \\text{ meV}$"
      ],
      "text/plain": [
       "<IPython.core.display.Math object>"
      ]
     },
     "metadata": {},
     "output_type": "display_data"
    }
   ],
   "source": [
    "def infinite_well_energy_transition(n2, n1):\n",
    "  w = 15 * 10**(-9)\n",
    "  def infinite_well_energy(n):\n",
    "    return (h_bar**2 * n**2 * pi**2)/(2 * m_e * w**2) #using regular electron mass,\n",
    "                                                      #since problem doesn't specify particle type\n",
    "  return infinite_well_energy(n2) - infinite_well_energy(n1)\n",
    "\n",
    "transitions = ['5-4', '4-3', '3-2', '2-1']\n",
    "for i in range(0,4):\n",
    "  temp = infinite_well_energy_transition(5-i, 4-i)*1.602*10**(-19)\n",
    "  #times 1.6022*10^(-19) to convert hbar to be in terms of Joules then the answer back to eV\n",
    "  display(Math(f'\\Delta E_n({transitions[i]}) = '\n",
    "               f'{round(temp,3)}\\\\text{{ eV}} = '\n",
    "               f'{round(10**(3) * temp, 3)} \\\\text{{ meV}}'))\n"
   ]
  },
  {
   "cell_type": "markdown",
   "metadata": {
    "pycharm": {
     "name": "#%% md\n"
    }
   },
   "source": [
    "# 3.\n",
    "For a finite potential well of width 20 nm and height 0.2 eV (use an effective mass appropriate to GaAs electrons, m = 0.067m0), compute the energy needed to ionize an electron (move it from the lowest energy level to the top of the well). If a 0.3 eV photon excites the electron out of the well, what is its kinetic energy? What is its wavelength? (434: 12 pts, 591: 8 pts)"
   ]
  },
  {
   "cell_type": "markdown",
   "metadata": {
    "pycharm": {
     "name": "#%% md\n"
    }
   },
   "source": [
    "Inside a finite well, a particle has the wavefunction\n",
    "\n",
    "$\\psi(x)_1 = D\\cos(lx) \\tag{1}$\n",
    "\n",
    "where\n",
    "\n",
    "$l = \\frac{\\sqrt{2m(E+V_0)}}{\\hbar} \\tag{2}$.\n",
    "\n",
    "Outside the well,\n",
    "\n",
    "<p>$\\psi(x)_2 = F\\exp(-kx) \\tag{3}$</p>\n",
    "\n",
    "where\n",
    "\n",
    "$k = \\frac{\\sqrt{-2mE}}{\\hbar} \\tag{4}$.\n",
    "\n",
    "\n",
    "Since the wavefunction and its derivative must be continuous, we set $\\psi(w)_1 = \\psi(w)_2$ and $\\psi'(w)_1 = \\psi'(w)_2$, which gives:\n",
    "\n",
    "<p>$D\\cos(lw) =  F\\exp(-kw)\\tag{5}$</p>\n",
    "\n",
    "and\n",
    "\n",
    "<p>$-lD\\sin(lw) =  -kF\\exp(-kw)\\tag{6}$</p>\n",
    "\n",
    "Deviding (5) by (6) gives:\n",
    "\n",
    "<p>$k = l\\tan(lw)\\tag{7}$</p>\n",
    "\n",
    "Since $k$ and $l$ are both functions of $E$, we can find the allowed energy values from this equation.  However, it's not convenient to have two separate functions of $E$.  Instead, following the derivation used in Griffiths' *Quantum Mechanics* in section 2.6, set:\n",
    "\n",
    "\n",
    "<p>$z = lw \\tag{8}$</p> \n",
    "    \n",
    "    \n",
    "<p>$((7) \\text{ and } (8) \\implies \\tan z = \\frac{k}{l} \\tag{9})$</p>\n",
    "\n",
    "and\n",
    "\n",
    "$z_0 = \\frac{w}{\\hbar}\\sqrt{2mV_0}\\tag{10}$.\n",
    "\n",
    "Additionally, from the definitions of $k$ and $l$ it follows that\n",
    "\n",
    "$k^2+l^2 = \\frac{2mV_0}{\\hbar^2} \\implies k = \\sqrt{\\frac{2mV_0}{\\hbar^2} - l^2} = \\sqrt{\\left(\\frac{z_0}{w}\\right)^2 - \\left(\\frac{z}{w}\\right)^2} \\implies kw = \\sqrt{z_0^2 - z^2}\\tag{11}$.\n",
    "\n",
    "$(11) \\text{ and } (9) \\implies \\tan z =\\sqrt{\\left(\\frac{z_0}{z}\\right)^2-1} \\tag{12}$\n",
    "\n",
    "Now, solving for $E$ in (2) and multiplying by $w$ to get it in terms of $z$ instead of $l$, we get that\n",
    "\n",
    "<p>$ E = \\frac{z^2\\hbar^2}{2mw^2} - V_0 \\tag{13}$</p>\n",
    "\n",
    "Now I'll find the solutions for $z$ by plotting equation 12 and then compute the energy difference between the highest and lowest energy levels."
   ]
  },
  {
   "cell_type": "markdown",
   "metadata": {
    "pycharm": {
     "name": "#%% md\n"
    }
   },
   "source": []
  },
  {
   "cell_type": "code",
   "execution_count": null,
   "metadata": {
    "pycharm": {
     "name": "#%%\n"
    }
   },
   "outputs": [],
   "source": []
  }
 ],
 "metadata": {
  "kernelspec": {
   "display_name": "Python 3 (ipykernel)",
   "language": "python",
   "name": "python3"
  },
  "language_info": {
   "codemirror_mode": {
    "name": "ipython",
    "version": 3
   },
   "file_extension": ".py",
   "mimetype": "text/x-python",
   "name": "python",
   "nbconvert_exporter": "python",
   "pygments_lexer": "ipython3",
   "version": "3.11.0"
  }
 },
 "nbformat": 4,
 "nbformat_minor": 1
}