{
 "cells": [
  {
   "cell_type": "code",
   "execution_count": 1,
   "outputs": [],
   "source": [
    "import numpy as np\n",
    "from sympy import symbols, integrate, solve, latex, simplify, exp, I\n",
    "from IPython.display import display, Math"
   ],
   "metadata": {
    "collapsed": false,
    "pycharm": {
     "name": "#%%\n"
    }
   }
  },
  {
   "cell_type": "markdown",
   "source": [
    "# 1.\n",
    "Assume that $\\varphi_n \\left(x \\right)$ are the eigenfunctions in an infinite square well $( \\rightarrow\\infty \\text{ for } x<0 \\text{ and } x>a)$. Calculate the overlap integrals\n",
    "$\\int_{0}^{a}{{\\varphi_n}^\\ast\\left(x\\right)\\varphi_m\\left(x\\right)dx.}$\n",
    "\n",
    "(Hint: The eigenfunctions to different eigenvalues are supposed to be orthogonal). (434: 6 pts, 591: 4 pts)\n"
   ],
   "metadata": {
    "collapsed": false,
    "pycharm": {
     "name": "#%% md\n"
    }
   }
  },
  {
   "cell_type": "markdown",
   "source": [
    "In quantum mechanics, eigenfunctions (AKA eigenstates) represent states corresponding to physically measurable values, (where the measured values are the eigenvalues).  That is, they each correspond to a single solution to the Schrodinger equation, the superposition of which gives the wavefunction.  But since we never observe an individual particle to be in a superposition of states, only ever in a single state at once (although measuring many particles with the same wavefunction reproduces the superposition), it's necesarry that eigenstates with different eigenvalues be mutually exclusive, which requires they be mutually orthogonal.  Hence, there can be no nonzero overlap between eigenstates with different eigenvalues.  For eigenstates with the same eiganvalue, the overlap will of course be 1 or 100%."
   ],
   "metadata": {
    "collapsed": false,
    "pycharm": {
     "name": "#%% md\n"
    }
   }
  },
  {
   "cell_type": "markdown",
   "source": [
    "# 2.\n",
    "For an infinite potential well of width $15$ nm, compute the energies associated with the transitions between the five lowest levels. Give the answers in eV. (434: 10 pts, 591: 5 pts)"
   ],
   "metadata": {
    "collapsed": false,
    "pycharm": {
     "name": "#%% md\n"
    }
   }
  },
  {
   "cell_type": "code",
   "execution_count": null,
   "outputs": [],
   "source": [],
   "metadata": {
    "collapsed": false,
    "pycharm": {
     "name": "#%%\n"
    }
   }
  }
 ],
 "metadata": {
  "kernelspec": {
   "display_name": "Python 3",
   "language": "python",
   "name": "python3"
  },
  "language_info": {
   "codemirror_mode": {
    "name": "ipython",
    "version": 2
   },
   "file_extension": ".py",
   "mimetype": "text/x-python",
   "name": "python",
   "nbconvert_exporter": "python",
   "pygments_lexer": "ipython2",
   "version": "2.7.6"
  }
 },
 "nbformat": 4,
 "nbformat_minor": 0
}