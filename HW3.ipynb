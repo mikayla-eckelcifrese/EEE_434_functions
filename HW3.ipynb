{
 "cells": [
  {
   "cell_type": "code",
   "execution_count": 3,
   "outputs": [],
   "source": [
    "import numpy as np\n",
    "from numpy import pi\n",
    "from sympy import symbols, integrate, solve, latex, simplify, exp, I\n",
    "from IPython.display import display, Math\n",
    "\n",
    "\n",
    "h = 4.136 * 10**(-15) # in eV*s\n",
    "h_bar = h/(2*pi) # in eV/Hz\n",
    "m_e = 9.109 * 10**(-31) # in kg"
   ],
   "metadata": {
    "collapsed": false,
    "pycharm": {
     "name": "#%%\n"
    }
   }
  },
  {
   "cell_type": "code",
   "execution_count": 5,
   "outputs": [
    {
     "data": {
      "text/plain": "6.582648446280792e-16"
     },
     "execution_count": 5,
     "metadata": {},
     "output_type": "execute_result"
    }
   ],
   "source": [
    "h_bar"
   ],
   "metadata": {
    "collapsed": false,
    "pycharm": {
     "name": "#%%\n"
    }
   }
  },
  {
   "cell_type": "markdown",
   "source": [
    "# 1.\n",
    "Assume that $\\varphi_n \\left(x \\right)$ are the eigenfunctions in an infinite square well $( \\rightarrow\\infty \\text{ for } x<0 \\text{ and } x>a)$. Calculate the overlap integrals\n",
    "$\\int_{0}^{a}{{\\varphi_n}^\\ast\\left(x\\right)\\varphi_m\\left(x\\right)dx.}$\n",
    "\n",
    "(Hint: The eigenfunctions to different eigenvalues are supposed to be orthogonal). (434: 6 pts, 591: 4 pts)\n"
   ],
   "metadata": {
    "collapsed": false,
    "pycharm": {
     "name": "#%% md\n"
    }
   }
  },
  {
   "cell_type": "markdown",
   "source": [
    "In quantum mechanics, eigenfunctions (AKA eigenstates) represent states corresponding to physically measurable values, (where the measured values are the eigenvalues).  That is, they each correspond to a single solution to the Schrodinger equation, the superposition of which gives the wavefunction.  But since we never observe an individual particle to be in a superposition of states, only ever in a single state at once (although measuring many particles with the same wavefunction reproduces the superposition), it's necesarry that eigenstates with different eigenvalues be mutually exclusive, which requires they be mutually orthogonal.  Hence, there can be no nonzero overlap between eigenstates with different eigenvalues.  For eigenstates with the same eigenvalue, the overlap will of course be 1 or 100%."
   ],
   "metadata": {
    "collapsed": false,
    "pycharm": {
     "name": "#%% md\n"
    }
   }
  },
  {
   "cell_type": "markdown",
   "source": [
    "# 2.\n",
    "For an infinite potential well of width $15$ nm, compute the energies associated with the transitions between the five lowest levels. Give the answers in eV. (434: 10 pts, 591: 5 pts)"
   ],
   "metadata": {
    "collapsed": false,
    "pycharm": {
     "name": "#%% md\n"
    }
   }
  },
  {
   "cell_type": "markdown",
   "source": [
    "For a particle trapped in an infinite square well, the energy level is quantized due to the boundary conditions applies to the Schrodinger equation.  The energy levels are given by the equation:\n",
    "$E_n = \\frac{\\hbar^2 n^2 \\pi^2}{2mw^2}$"
   ],
   "metadata": {
    "collapsed": false,
    "pycharm": {
     "name": "#%% md\n"
    }
   }
  },
  {
   "cell_type": "code",
   "execution_count": 8,
   "outputs": [
    {
     "data": {
      "text/plain": "<IPython.core.display.Math object>",
      "text/latex": "$\\displaystyle \\Delta E_n(5-4) = 0.015042598853880767eV = 15.042598853880767meV$"
     },
     "metadata": {},
     "output_type": "display_data"
    },
    {
     "data": {
      "text/plain": "<IPython.core.display.Math object>",
      "text/latex": "$\\displaystyle \\Delta E_n(4-3) = 0.011699799108573937eV = 11.699799108573938meV$"
     },
     "metadata": {},
     "output_type": "display_data"
    },
    {
     "data": {
      "text/plain": "<IPython.core.display.Math object>",
      "text/latex": "$\\displaystyle \\Delta E_n(3-2) = 0.008356999363267099eV = 8.356999363267098meV$"
     },
     "metadata": {},
     "output_type": "display_data"
    },
    {
     "data": {
      "text/plain": "<IPython.core.display.Math object>",
      "text/latex": "$\\displaystyle \\Delta E_n(2-1) = 0.005014199617960258eV = 5.014199617960259meV$"
     },
     "metadata": {},
     "output_type": "display_data"
    }
   ],
   "source": [
    "def infinite_well_energy_transition(n2, n1):\n",
    "  w = 15 * 10**(-9)\n",
    "  def infinite_well_energy(n):\n",
    "    return (h_bar**2 * n**2 * pi**2)/(2 * m_e * w**2)\n",
    "  return infinite_well_energy(n2) - infinite_well_energy(n1)\n",
    "\n",
    "transitions = ['5-4', '4-3', '3-2', '2-1']\n",
    "for i in range(0,4):\n",
    "  display(Math(f'\\Delta E_n({transitions[i]}) = '\n",
    "               f'{infinite_well_energy_transition(5-i, 4-i)*1.602*10**(-19)} eV = '\n",
    "               f'{10**(3) * infinite_well_energy_transition(5-i, 4-i)*1.602*10**(-19)} meV'))\n"
   ],
   "metadata": {
    "collapsed": false,
    "pycharm": {
     "name": "#%%\n"
    }
   }
  },
  {
   "cell_type": "code",
   "execution_count": null,
   "outputs": [],
   "source": [],
   "metadata": {
    "collapsed": false,
    "pycharm": {
     "name": "#%%\n"
    }
   }
  }
 ],
 "metadata": {
  "kernelspec": {
   "display_name": "Python 3",
   "language": "python",
   "name": "python3"
  },
  "language_info": {
   "codemirror_mode": {
    "name": "ipython",
    "version": 2
   },
   "file_extension": ".py",
   "mimetype": "text/x-python",
   "name": "python",
   "nbconvert_exporter": "python",
   "pygments_lexer": "ipython2",
   "version": "2.7.6"
  }
 },
 "nbformat": 4,
 "nbformat_minor": 0
}