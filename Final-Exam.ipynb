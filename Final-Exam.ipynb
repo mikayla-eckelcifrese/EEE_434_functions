{
 "cells": [
  {
   "cell_type": "code",
   "execution_count": 134,
   "metadata": {},
   "outputs": [],
   "source": [
    "from quantities import UnitQuantity, m, nm, Hz, MHz, s, kg, eV, J, C, K, mW, mA, cm, A, uA\n",
    "from sympy import symbols, integrate, solve, latex, oo, simplify, maximum, Piecewise, Interval, N\n",
    "import sympy as sy\n",
    "from IPython.display import display, Math\n",
    "from numpy import linspace, exp, e, pi, sqrt, sinh, imag, sin, vectorize, where, delete, absolute\n",
    "\n",
    "\n",
    "h = 4.136 * 10**(-15)*eV*s\n",
    "h_bar = (h/(2*pi)) #in eV/Hz\n",
    "m_e = 9.109 * 10**(-31)*kg\n",
    "c = 2.99 * 10**8*m/s\n",
    "q = 1.6022*10**(-19)*C\n",
    "k_b = 8.617333262*10**(-5)*eV/K\n",
    "\n",
    "def Units(x, units):\n",
    "  x.units = units\n",
    "  return x\n",
    "\n",
    "def split_off_units(x, decimal_places = None):\n",
    "    if decimal_places is not None:\n",
    "        x = round(x, decimal_places)\n",
    "    x = str(x)\n",
    "    return f'{x.split()[0]} \\\\text{{{x.split()[1]} }}'"
   ]
  },
  {
   "cell_type": "markdown",
   "metadata": {},
   "source": [
    "# 1 \n",
    "A metal is going to be tested to determine its electron work function.\n",
    " "
   ]
  },
  {
   "cell_type": "markdown",
   "metadata": {},
   "source": [
    "#### A. If the surface is illuminated with light of 58.8 nm wavelength and the kinetic energy of the electrons that are emitted into vacuum is 16.7 eV, what is the work function of the material? (20 pts)\n",
    "\n",
    "---\n",
    "\n",
    "The work function is defined as the minimum amount of energy needed to remove an electron from an atom of the relevant material and so is equal to the total energy imparted by the photon minus the kinetic energy of the electron after it's emitted."
   ]
  },
  {
   "cell_type": "code",
   "execution_count": 47,
   "metadata": {},
   "outputs": [
    {
     "data": {
      "text/latex": [
       "$\\displaystyle E_0 = 4.3317 eV$"
      ],
      "text/plain": [
       "<IPython.core.display.Math object>"
      ]
     },
     "metadata": {},
     "output_type": "display_data"
    }
   ],
   "source": [
    "Lambda = 58.8*nm\n",
    "\n",
    "total_energy = h*c/Lambda #E = hf\n",
    "\n",
    "kinetic_energy = 16.7*eV\n",
    "\n",
    "E0 = round(Units(total_energy - kinetic_energy, \"eV\"), 5)\n",
    "\n",
    "display(Math(f'E_0 = {E0}'))"
   ]
  },
  {
   "cell_type": "markdown",
   "metadata": {},
   "source": [
    "#### B. If the power of the light source is 3 mW, how large would the photoelectric current be, assuming a quantum efficiency of 1? (20 pts)\n",
    "\n",
    "Derivation of current equation from HW1 Q4C:\n",
    "\n",
    "$$ \\begin{array}{l}\n",
    "I=\\frac{\\#\\text{electrons} \\cdot q}{t} =\\frac{\\#\\text{photons} \\cdot q}{t}\\\\\n",
    "\\#\\text{photons} =\\frac{P\\cdot t\\cdot A}{E}\\\\\n",
    "( 1) \\ \\text{and} \\ ( 2) \\Longrightarrow I=\\frac{\\frac{P\\cdot t\\cdot A}{E} \\cdot q}{t} =\\frac{PAq}{E} \\Longrightarrow \\\\\n",
    "J=\\frac{Pq}{E}\n",
    "\\end{array}$$"
   ]
  },
  {
   "cell_type": "code",
   "execution_count": 55,
   "metadata": {},
   "outputs": [
    {
     "data": {
      "text/latex": [
       "$\\displaystyle I = 142.64391 \\text{uA }$"
      ],
      "text/plain": [
       "<IPython.core.display.Math object>"
      ]
     },
     "metadata": {},
     "output_type": "display_data"
    }
   ],
   "source": [
    "P = 3*mW\n",
    "E = total_energy\n",
    "\n",
    "current = P*q/E\n",
    "\n",
    "display(Math(f'I = {split_off_units(Units(current, uA), 5)}'))"
   ]
  },
  {
   "cell_type": "markdown",
   "metadata": {},
   "source": [
    "#### C. The only light source you find in your lab is a Hg i-line (365 nm) bulb with 1 W output power. Is it possible to measure a photoelectric current? Why or why not? (10 pts)"
   ]
  },
  {
   "cell_type": "code",
   "execution_count": 73,
   "metadata": {},
   "outputs": [
    {
     "data": {
      "text/latex": [
       "$\\displaystyle \\text{ No, because } E_{\\lambda = 365\\text{nm}} = 3.388 \\text{eV } < E_0 = 4.332 \\text{eV }.$"
      ],
      "text/plain": [
       "<IPython.core.display.Math object>"
      ]
     },
     "metadata": {},
     "output_type": "display_data"
    }
   ],
   "source": [
    "Lambda  = 365*nm\n",
    "E = h*c/Lambda\n",
    "display(Math(f'\\\\text{{ No, because }} E_{{\\lambda = 365\\\\text{{nm}}}} = '  \n",
    "             f'{split_off_units(Units(E, \"eV\"), 3)} < E_0 = {split_off_units(E0, 3)}.'))"
   ]
  },
  {
   "cell_type": "markdown",
   "metadata": {},
   "source": [
    "# 2\n",
    "\n",
    "You are designing a semiconductor heterostructure which provides a **finite well depth** of 2.87 eV. If you assume a well width of 3.9 nm, what will the ground state energy be (in eV)? **You should use the AQME tool in NanoHUB** to solve this problem. You can assume the effective mass for GaAs (m*= 0.067 me). (50 points)\n",
    "\n",
    "Please, download the Simulation Results data and upload them as a separate document after completing the Canvas Quiz. You need to upload the complete simulation results output, otherwise, you will not receive full credit."
   ]
  },
  {
   "cell_type": "markdown",
   "metadata": {},
   "source": [
    "<img src=\"Final-Exam-Q2-Setup-screen.jpg\">\n",
    "<img src=\"Final-Exam-Q2-Plot.jpg\">"
   ]
  },
  {
   "cell_type": "markdown",
   "metadata": {},
   "source": [
    "# 3\n",
    "\n",
    "Electron microscopes often use Field Emission Cathodes. These cathodes have a small diameter, which creates a strong electric field of $F = 8.4 \\cdot 10^ 9 \\frac{\\text{V}}{\\text{m}}$.\n",
    "\n",
    "Although it is a crude approximation, determine the tunneling probability T though the barrier by using the WKB approximation. You can assume a barrier height $V_0 = 3 \\text{ eV}$ and determine $T$ for an energy of $E = \\frac{V_0}{2}$. Use the free electron mass for $m$. (50 points)\n",
    "\n",
    "It is recommended to convert the energies to $\\text{J}$ before performing the numeric calculation. If you want to use the unit $\\text{eV}$ for the energy, you should perform a unit check.\n",
    "\n",
    "<img src=\"Final-Exam-Q3-Hint.jpg\">"
   ]
  },
  {
   "cell_type": "markdown",
   "metadata": {},
   "source": [
    "From Griffiths', for the WKB approximation:\n",
    "<img src=\"WKB_tunneling-approximation.jpg\">"
   ]
  },
  {
   "cell_type": "code",
   "execution_count": 86,
   "metadata": {},
   "outputs": [
    {
     "data": {
      "text/latex": [
       "$\\displaystyle \\text{Tunneling probability} = e^{- 5164887410812.55 a}$"
      ],
      "text/plain": [
       "<IPython.core.display.Math object>"
      ]
     },
     "metadata": {},
     "output_type": "display_data"
    }
   ],
   "source": [
    "E = 3*eV/2\n",
    "x, a = symbols('x a', real = True)\n",
    "p = sy.sqrt(E**2 / c**2 - (m_e * c)**2) #solve for p in E^2 = (pc)^2 + (mc^2)^2\n",
    "\n",
    "gamma = (1/h_bar)*sy.integrate(abs(p),(x, 0, a))\n",
    "\n",
    "T = sy.exp(-2*gamma.magnitude)\n",
    "\n",
    "display(Math(f'\\\\text{{Tunneling probability}} = {latex(T)}'))"
   ]
  },
  {
   "cell_type": "markdown",
   "metadata": {},
   "source": [
    "# 4\n",
    "\n",
    "While we know that the exact solutions of Schrödinger's equation for the Coulomb potential of the Hydrogen Atom, the wave functions are not easy to remember. The question is if we could use Gaussian wave functions as an approximation. We can check how far off from the exact ground state energy we would be if we decide to use a variational approach to calculate the ground state energy using a Gaussian test function\n",
    "\n",
    "<img src=\"Final-Exam-Q4-TestFunction.jpg\">\n",
    "\n",
    "where b is the parameter to be varied. (50 points)\n",
    "\n",
    "<img src=\"Final-Exam-Q4-Hint.jpg\">"
   ]
  },
  {
   "cell_type": "markdown",
   "metadata": {},
   "source": [
    "Variation principle:\n",
    "<img src=\"variational_principle_equation.jpg\">\n",
    "\n",
    "From Griffiths' example 8.1, for this particle test function,\n",
    "\n",
    "<img src=\"Final-Exam-Q4-H-expected-value.jpg\">\n",
    "\n",
    "and so we just need to minimize that function, w.r.t. to $b$ to get an upper bound for $E_{gs}$.\n",
    "\n",
    "Doing that gives:\n",
    "\n",
    "$$$$"
   ]
  },
  {
   "cell_type": "markdown",
   "metadata": {},
   "source": [
    "# 5\n",
    "\n",
    "The following function is a valid quantum mechanical wave function if a is a finite, real, positive constant.\n",
    "\n",
    "<img src=\"Final-Exam-Q5-WaveFunction.jpg\">\n",
    "\n",
    "At which position(s) is the particle most likely to be found? (30 pts)\n",
    "\n",
    "<img src=\"Final-Exam-Q5-hint.jpg\">"
   ]
  },
  {
   "cell_type": "code",
   "execution_count": 70,
   "metadata": {},
   "outputs": [
    {
     "data": {
      "text/latex": [
       "$\\displaystyle \\text{The particle is mostly likely to be found at } \\frac{2 \\sin^{2}{\\left(\\frac{2 \\pi}{a} \\right)}}{a}$"
      ],
      "text/plain": [
       "<IPython.core.display.Math object>"
      ]
     },
     "metadata": {},
     "output_type": "display_data"
    }
   ],
   "source": [
    "x, a = symbols('x a', real = True, positive = True)\n",
    "\n",
    "PDF = (2/a) * sy.sin(2*sy.pi/a)**2\n",
    "\n",
    "display(Math(f'\\\\text{{The particle is mostly likely to be found at }} {latex(maximum(PDF, x, Interval(0, a)))}'))"
   ]
  }
 ],
 "metadata": {
  "kernelspec": {
   "display_name": "Python 3 (ipykernel)",
   "language": "python",
   "name": "python3"
  },
  "language_info": {
   "codemirror_mode": {
    "name": "ipython",
    "version": 3
   },
   "file_extension": ".py",
   "mimetype": "text/x-python",
   "name": "python",
   "nbconvert_exporter": "python",
   "pygments_lexer": "ipython3",
   "version": "3.11.3"
  }
 },
 "nbformat": 4,
 "nbformat_minor": 1
}
