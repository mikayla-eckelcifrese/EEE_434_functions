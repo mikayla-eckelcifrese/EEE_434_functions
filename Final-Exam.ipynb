{
 "cells": [
  {
   "cell_type": "markdown",
   "metadata": {},
   "source": [
    "# 1 \n",
    "A metal is going to be tested to determine its electron work function.\n",
    "\n",
    "A. If the surface is illuminated with light of 58.8 nm wavelength and the kinetic energy of the electrons that are emitted into vacuum is 16.7 eV, what is the work function of the material? (20 pts)\n",
    " \n",
    " B. If the power of the light source is 3 mW, how large would the photoelectric current be, assuming a quantum efficiency of 1? (20 pts)\n",
    " \n",
    "C. The only light source you find in your lab is a Hg i-line (365 nm) bulb with 1 W output power. Is it possible to measure a photoelectric current? Why or why not? (10 pts)"
   ]
  },
  {
   "cell_type": "code",
   "execution_count": null,
   "metadata": {},
   "outputs": [],
   "source": []
  },
  {
   "cell_type": "markdown",
   "metadata": {},
   "source": [
    "# 2\n",
    "\n",
    "You are designing a semiconductor heterostructure which provides a **finite well depth** of 2.87 eV. If you assume a well width of 3.9 nm, what will the ground state energy be (in eV)? **You should use the AQME tool in NanoHUB** to solve this problem. You can assume the effective mass for GaAs (m*= 0.067 me). (50 points)\n",
    "\n",
    "Please, download the Simulation Results data and upload them as a separate document after completing the Canvas Quiz. You need to upload the complete simulation results output, otherwise, you will not receive full credit."
   ]
  },
  {
   "cell_type": "code",
   "execution_count": null,
   "metadata": {},
   "outputs": [],
   "source": []
  },
  {
   "cell_type": "markdown",
   "metadata": {},
   "source": [
    "# 3\n",
    "\n",
    "Electron microscopes often use Field Emission Cathodes. These cathodes have a small diameter, which creates a strong electric field of F = 8.4 x 109 V/m.\n",
    "\n",
    "Although it is a crude approximation, determine the tunneling probability T though the barrier by using the WKB approximation. You can assume a barrier height V0 = 3 eV and determine T for an energy of E = V0/2. Use the free electron mass for m. (50 points)\n",
    "\n",
    "It is recommended to convert the energies to J before performing the numeric calculation. If you want to use the unit eV for the energy, you should perform a unit check.\n",
    "\n",
    "<img src=\"Final-Exam-Q3-Hint.jpg\">"
   ]
  },
  {
   "cell_type": "code",
   "execution_count": null,
   "metadata": {},
   "outputs": [],
   "source": []
  },
  {
   "cell_type": "markdown",
   "metadata": {},
   "source": [
    "# 4\n",
    "\n",
    "While we know that the exact solutions of Schrödinger's equation for the Coulomb potential of the Hydrogen Atom, the wave functions are not easy to remember. The question is if we could use Gaussian wave functions as an approximation. We can check how far off from the exact ground state energy we would be if we decide to use a variational approach to calculate the ground state energy using a Gaussian test function\n",
    "\n",
    "<img src=\"Final-Exam-Q4-TestFunction.jpg\">\n",
    "\n",
    "where b is the parameter to be varied. (50 points)\n",
    "\n",
    "<img src=\"Final-Exam-Q4-Hint.jpg\">"
   ]
  },
  {
   "cell_type": "code",
   "execution_count": null,
   "metadata": {},
   "outputs": [],
   "source": []
  },
  {
   "cell_type": "markdown",
   "metadata": {},
   "source": [
    "# 5\n",
    "\n",
    "The following function is a valid quantum mechanical wave function if a is a finite, real, positive constant.\n",
    "\n",
    "<img src=\"Final-Exam-Q5-WaveFunction.jpg\">\n",
    "\n",
    "At which position(s) is the particle most likely to be found? (30 pts)\n",
    "\n",
    "<img src=\"Final-Exam-Q5-hint.jpg\">"
   ]
  },
  {
   "cell_type": "code",
   "execution_count": null,
   "metadata": {},
   "outputs": [],
   "source": []
  }
 ],
 "metadata": {
  "kernelspec": {
   "display_name": "Python 3 (ipykernel)",
   "language": "python",
   "name": "python3"
  },
  "language_info": {
   "codemirror_mode": {
    "name": "ipython",
    "version": 3
   },
   "file_extension": ".py",
   "mimetype": "text/x-python",
   "name": "python",
   "nbconvert_exporter": "python",
   "pygments_lexer": "ipython3",
   "version": "3.11.3"
  }
 },
 "nbformat": 4,
 "nbformat_minor": 1
}
