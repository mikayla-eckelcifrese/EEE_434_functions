{
 "cells": [
  {
   "cell_type": "markdown",
   "source": [
    "Create Material for layered QW Object"
   ],
   "metadata": {
    "collapsed": false
   }
  },
  {
   "cell_type": "code",
   "execution_count": 13,
   "outputs": [],
   "source": [
    "from solcore import si, material\n",
    "from solcore.structure import Layer, Structure\n",
    "import solcore.quantum_mechanics as QM\n",
    "import matplotlib.pyplot as plt\n",
    "from solcore.structure import TunnelJunction\n",
    "from solcore.solar_cell_solver import default_options\n",
    "from solcore.analytic_solar_cells import parametric_tunnel_junction\n",
    "import solcore.poisson_drift_diffusion as PDD\n",
    "import numpy as np\n",
    "\n",
    "\n",
    "# First we create the materials we need\n",
    "top = material(\"GaAs\")(T=293, strained = False)\n",
    "barrier = material(\"GaAsP\")(T=293, P = 0.32, strained = False)\n",
    "well = material(\"InGaAs\")(T=293, In = 0.11, strained = False)\n",
    "bottom = material(\"AlGaAs\")(T=293, Al = 0.5, Strained = False) #doesn't recognize name pf compound\n",
    "\n",
    "# As well as some of the layers\n",
    "top_layer = Layer(width=si(\"10nm\"), material=top)\n",
    "barrier_layer = Layer(width=si(\"2.5nm\"), material=barrier, role = 'barrier')\n",
    "well_layer = Layer(width=si(\"8.5nm\"), material=well, role = 'well')\n",
    "bottom_barrier_layer = Layer(width=si(\"50nm\"), material=bottom)\n",
    "bottom_layer = Layer(width=si(\"50nm\"), material=top)\n",
    "\n",
    "\n",
    "# Layered quantum wells\n",
    "layers = [top_layer, barrier_layer] + 10 * [well_layer, barrier_layer] + [bottom_barrier_layer, bottom_layer]"
   ],
   "metadata": {
    "collapsed": false,
    "ExecuteTime": {
     "start_time": "2023-06-29T17:42:23.708146Z",
     "end_time": "2023-06-29T17:42:23.712629Z"
    }
   }
  },
  {
   "cell_type": "markdown",
   "source": [
    "Create QW Layered Object"
   ],
   "metadata": {
    "collapsed": false
   }
  },
  {
   "cell_type": "code",
   "execution_count": 14,
   "outputs": [],
   "source": [
    "m_e = 9.1093837015*10**(-31) #kg\n",
    "h_bar = 1.054571817E-34#in J*s\n",
    "epsilon0 = 8.854187817 * 10**(-12) #C**2/(N*m**2)\n",
    "epsilon = 11.48*epsilon0\n",
    "effective_mass = 0.1*m_e\n",
    "doping_concentration = 10**25 #m^-3\n",
    "prefactor = (4/(3*h_bar))*((effective_mass*epsilon)/doping_concentration)**0.5\n",
    "\n",
    "tunnel = TunnelJunction(v_peak=0.2, j_peak=100, v_valley=0.9, j_valley=10, prefactor=prefactor, j01=1e-21, kind='parametric')\n",
    "parametric_tunnel_junction(tunnel, default_options)\n",
    "\n",
    "v = tunnel.voltage"
   ],
   "metadata": {
    "collapsed": false,
    "ExecuteTime": {
     "start_time": "2023-06-29T17:42:24.803015Z",
     "end_time": "2023-06-29T17:42:24.820201Z"
    }
   }
  },
  {
   "cell_type": "markdown",
   "source": [],
   "metadata": {
    "collapsed": false
   }
  },
  {
   "cell_type": "code",
   "execution_count": 15,
   "outputs": [
    {
     "name": "stdout",
     "output_type": "stream",
     "text": [
      "Solving QW properties...\n"
     ]
    }
   ],
   "source": [
    "T = 300\n",
    "interlayers = [barrier_layer, well_layer, barrier_layer]\n",
    "wavelengths = np.linspace(350, 1050, 1001) * 1e-9\n",
    "\n",
    "QW = PDD.QWunit(interlayers, T=T, repeat=10, substrate=top)\n",
    "\n",
    "# We solve the quantum properties of the QW, leaving the default values of all parameters\n",
    "QW_list = QW.GetEffectiveQW(wavelengths=wavelengths)"
   ],
   "metadata": {
    "collapsed": false,
    "ExecuteTime": {
     "start_time": "2023-06-29T17:42:25.964990Z",
     "end_time": "2023-06-29T17:42:26.740002Z"
    }
   }
  },
  {
   "cell_type": "raw",
   "source": [
    "Define Doped Junctions"
   ],
   "metadata": {
    "collapsed": false
   }
  },
  {
   "cell_type": "code",
   "execution_count": 18,
   "outputs": [],
   "source": [
    "from solcore.structure import Junction\n",
    "\n",
    "T = 300\n",
    "\n",
    "## Materials for the BOTTOM junction\n",
    "window_bottom = material('GaInP')(T=T, Nd=5e24, In=0.49)\n",
    "n_GaAs = material('GaAs')(T=T, Nd=1e24)\n",
    "p_GaAs = material('GaAs')(T=T, Na=8e22)\n",
    "bsf_bottom = material('GaInP')(T=T, Na=5e24, In=0.49)\n",
    "\n",
    "GaAs_junction = Junction([Layer(width=60e-9, material=window_bottom, role=\"Window\"),\n",
    "                          Layer(width=1000e-9, material=n_GaAs, role=\"Emitter\")] +\n",
    "                         QW_list +\n",
    "                         [Layer(width=2000e-9, material=p_GaAs, role=\"Base\"),\n",
    "                          Layer(width=200e-9, material=bsf_bottom, role=\"BSF\")], sn=1e6, sp=1e6, T=T, kind='PDD')\n",
    "\n",
    "## Materials for the TOP junction\n",
    "window_top = material('AlInP')(T=T, Nd=5e23, Al=0.53)\n",
    "n_GaInP = material('GaInP')(T=T, Nd=5e23, In=0.49)\n",
    "p_GaInP = material('GaInP')(T=T, Na=8e22, In=0.49)\n",
    "bsf_top = material('AlInP')(T=T, Na=5e24, Al=0.53)\n",
    "\n",
    "GaInP_junction = Junction([Layer(width=30e-9, material=window_top, role=\"window\"),\n",
    "                         Layer(width=100e-9, material=n_GaInP, role=\"Emitter\"),\n",
    "                           Layer(width=2000e-9, material=p_GaInP, role=\"Base\"),\n",
    "                           Layer(width=100e-9, material=bsf_top, role=\"BSF\")], sn=1e3, sp=1e3, T=T, kind='PDD')"
   ],
   "metadata": {
    "collapsed": false,
    "ExecuteTime": {
     "start_time": "2023-06-29T18:24:31.895661Z",
     "end_time": "2023-06-29T18:24:31.903047Z"
    }
   }
  },
  {
   "cell_type": "markdown",
   "source": [
    "Define Solar Cell"
   ],
   "metadata": {
    "collapsed": false
   }
  },
  {
   "cell_type": "code",
   "execution_count": 19,
   "outputs": [],
   "source": [
    "# antireflective coating\n",
    "MgF2 = material('MgF2')()\n",
    "ZnS = material('ZnScub')()\n",
    "\n",
    "Arc1 = Layer(width=110e-9, material=MgF2, role=\"ARC1\")\n",
    "Arc2 = Layer(width=60e-9, material=ZnS, role=\"ARC2\")\n",
    "\n",
    "from solcore.solar_cell import SolarCell\n",
    "\n",
    "my_solar_cell = SolarCell([Arc1,\n",
    "                           Arc2,\n",
    "                           GaInP_junction,\n",
    "                           tunnel,\n",
    "                           GaAs_junction],\n",
    "                          T=T, substrate=n_GaAs)"
   ],
   "metadata": {
    "collapsed": false,
    "ExecuteTime": {
     "start_time": "2023-06-29T18:24:45.309995Z",
     "end_time": "2023-06-29T18:24:45.371076Z"
    }
   }
  },
  {
   "cell_type": "code",
   "execution_count": 20,
   "outputs": [],
   "source": [
    "from solcore.solar_cell_solver import solar_cell_solver\n",
    "from solcore.light_source import LightSource\n",
    "\n",
    "light_source = LightSource(source_type='standard', version='AM1.5g', x=wavelengths,\n",
    "                           output_units='photon_flux_per_m', concentration=1)\n",
    "\n",
    "solar_cell_solver(my_solar_cell, 'qe',\n",
    "                  user_options={'light_source': light_source, 'wavelength': wavelengths, 'optics_method': 'TMM'})"
   ],
   "metadata": {
    "collapsed": false,
    "ExecuteTime": {
     "start_time": "2023-06-29T18:25:00.388430Z",
     "end_time": "2023-06-29T18:25:00.399741Z"
    }
   }
  },
  {
   "cell_type": "code",
   "execution_count": null,
   "outputs": [],
   "source": [],
   "metadata": {
    "collapsed": false
   }
  }
 ],
 "metadata": {
  "kernelspec": {
   "display_name": "Python 3",
   "language": "python",
   "name": "python3"
  },
  "language_info": {
   "codemirror_mode": {
    "name": "ipython",
    "version": 2
   },
   "file_extension": ".py",
   "mimetype": "text/x-python",
   "name": "python",
   "nbconvert_exporter": "python",
   "pygments_lexer": "ipython2",
   "version": "2.7.6"
  }
 },
 "nbformat": 4,
 "nbformat_minor": 0
}
